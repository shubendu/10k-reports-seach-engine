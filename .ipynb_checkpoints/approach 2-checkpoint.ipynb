{
 "cells": [
  {
   "cell_type": "code",
   "execution_count": 9,
   "id": "52296fa5",
   "metadata": {},
   "outputs": [],
   "source": [
    "import pandas as pd\n",
    "from sklearn.feature_extraction.text import TfidfVectorizer\n",
    "from sklearn.metrics.pairwise import cosine_similarity\n",
    "import math\n",
    "from collections import Counter\n",
    "from nltk import cluster\n",
    "\n",
    "def buildVector(iterable1, iterable2):\n",
    "    counter1 = Counter(iterable1)\n",
    "    counter2= Counter(iterable2)\n",
    "    all_items = set(counter1.keys()).union( set(counter2.keys()) )\n",
    "    vector1 = [counter1[k] for k in all_items]\n",
    "    vector2 = [counter2[k] for k in all_items]\n",
    "    return vector1, vector2"
   ]
  },
  {
   "cell_type": "code",
   "execution_count": 10,
   "id": "25e1c16d",
   "metadata": {},
   "outputs": [
    {
     "data": {
      "text/plain": [
       "0       condensed consolidated statements of cash flows\n",
       "1     condensed consolidated statements of cash flow...\n",
       "2                      consolidated cash flow statement\n",
       "3       consolidated condensed statements of cash flows\n",
       "4                  consolidated statement of cash flows\n",
       "5                 consolidated statements of cash flows\n",
       "6     consolidated statements of cash flows (unaudited)\n",
       "7     consolidated statements of cash flows (unaudited)\n",
       "8                         group statement of cash flows\n",
       "9                                statement of cash flow\n",
       "10           statement of cash flows for the year ended\n",
       "11           statement of cash flows for the year ended\n",
       "12                 statement of consolidated cash flows\n",
       "13    unaudited condensed consolidated statements of...\n",
       "dtype: object"
      ]
     },
     "execution_count": 10,
     "metadata": {},
     "output_type": "execute_result"
    }
   ],
   "source": [
    "cf = ['condensed consolidated statements of cash flows',\n",
    "'condensed consolidated statements of cash flows (unaudited)',\n",
    "'consolidated cash flow statement',\n",
    "'consolidated condensed statements of cash flows',\n",
    "'consolidated statement of cash flows',\n",
    "'consolidated statements of cash flows',\n",
    "'consolidated statements of cash flows (unaudited)',\n",
    "'consolidated statements of cash flows (unaudited)',\n",
    "'group statement of cash flows',\n",
    "'statement of cash flow',\n",
    "'statement of cash flows for the year ended' ,\n",
    "'statement of cash flows for the year ended',\n",
    "'statement of consolidated cash flows',\n",
    "'unaudited condensed consolidated statements of cash flows',]\n",
    "\n",
    "cf = pd.Series(cf)\n",
    "cf"
   ]
  },
  {
   "cell_type": "code",
   "execution_count": 11,
   "id": "5a51ab9a",
   "metadata": {},
   "outputs": [
    {
     "data": {
      "text/plain": [
       "0                                   balance sheet as on\n",
       "1                                        balance sheets\n",
       "2                 condensed consolidated balance sheets\n",
       "3     condensed consolidated statements of financial...\n",
       "4               consolidated and company balance sheets\n",
       "5                            consolidated balance sheet\n",
       "6                           consolidated balance sheets\n",
       "7               consolidated balance sheets (unaudited)\n",
       "8                 consolidated condensed balance sheets\n",
       "9          consolidated statement of financial position\n",
       "10       consolidated statements of financial condition\n",
       "11    consolidated statements of financial position ...\n",
       "12                group statement of financial position\n",
       "13                      statement of financial position\n",
       "14                statement of financial position as at\n",
       "15      unaudited condensed consolidated balance sheets\n",
       "dtype: object"
      ]
     },
     "execution_count": 11,
     "metadata": {},
     "output_type": "execute_result"
    }
   ],
   "source": [
    "s2 = ['balance sheet as on' ,\n",
    "'balance sheets',\n",
    "'condensed consolidated balance sheets',\n",
    "'condensed consolidated statements of financial position',\n",
    "'consolidated and company balance sheets',\n",
    "'consolidated balance sheet',\n",
    "'consolidated balance sheets',\n",
    "'consolidated balance sheets (unaudited)',\n",
    "'consolidated condensed balance sheets',\n",
    "'consolidated statement of financial position',\n",
    "'consolidated statements of financial condition',\n",
    "'consolidated statements of financial position (unaudited)',\n",
    "'group statement of financial position',\n",
    "'statement of financial position',\n",
    "'statement of financial position as at',\n",
    "'unaudited condensed consolidated balance sheets']\n",
    "bs = pd.Series(s2)\n",
    "bs"
   ]
  },
  {
   "cell_type": "code",
   "execution_count": 12,
   "id": "b36d5afc",
   "metadata": {},
   "outputs": [
    {
     "data": {
      "text/plain": [
       "0       condensed consolidated statements of operations\n",
       "1                         consolidated income statement\n",
       "2                        consolidated income statements\n",
       "3                  consolidated profit and loss account\n",
       "4        consolidated statement of comprehensive income\n",
       "5             consolidated statement of profit and loss\n",
       "6                     consolidated statements of income\n",
       "7                 consolidated statements of operations\n",
       "8               group statement of comprehensive income\n",
       "9                     statement of comprehensive income\n",
       "10    statement of financial activities for the year...\n",
       "11     statemnent of profit and loss for the year ended\n",
       "12    unaudited condensed consolidated statements of...\n",
       "dtype: object"
      ]
     },
     "execution_count": 12,
     "metadata": {},
     "output_type": "execute_result"
    }
   ],
   "source": [
    "s1 = ['condensed consolidated statements of operations',\n",
    "'consolidated income statement',\n",
    "'consolidated income statements',\n",
    "'consolidated profit and loss account',\n",
    "'consolidated statement of comprehensive income',\n",
    "'consolidated statement of profit and loss',\n",
    "'consolidated statements of income',\n",
    "'consolidated statements of operations',\n",
    "'group statement of comprehensive income',\n",
    "'statement of comprehensive income',\n",
    "'statement of financial activities for the year ended',\n",
    "'statemnent of profit and loss for the year ended',\n",
    "'unaudited condensed consolidated statements of loss',]\n",
    "pl = pd.Series(s1)\n",
    "pl"
   ]
  },
  {
   "cell_type": "code",
   "execution_count": 12,
   "id": "1b96582d",
   "metadata": {},
   "outputs": [
    {
     "data": {
      "text/plain": [
       "<13x21 sparse matrix of type '<class 'numpy.float64'>'\n",
       "\twith 67 stored elements in Compressed Sparse Row format>"
      ]
     },
     "execution_count": 12,
     "metadata": {},
     "output_type": "execute_result"
    }
   ],
   "source": [
    "vectorizer = TfidfVectorizer()\n",
    "pl_vect = vectorizer.fit_transform(pl)\n",
    "pl_vect"
   ]
  },
  {
   "cell_type": "code",
   "execution_count": null,
   "id": "b10698d4",
   "metadata": {},
   "outputs": [],
   "source": [
    "ol = \"statements of operations income statement\""
   ]
  },
  {
   "cell_type": "code",
   "execution_count": 16,
   "id": "d4222047",
   "metadata": {},
   "outputs": [
    {
     "data": {
      "text/plain": [
       "<1x6 sparse matrix of type '<class 'numpy.float64'>'\n",
       "\twith 6 stored elements in Compressed Sparse Row format>"
      ]
     },
     "execution_count": 16,
     "metadata": {},
     "output_type": "execute_result"
    }
   ],
   "source": [
    "test = ['consolidated statements of comprehensive loss income']\n",
    "vectorizer = TfidfVectorizer(max_features=10)\n",
    "test_vect = vectorizer.fit_transform(test)\n",
    "test_vect"
   ]
  },
  {
   "cell_type": "code",
   "execution_count": 17,
   "id": "b6631b2f",
   "metadata": {},
   "outputs": [
    {
     "name": "stdout",
     "output_type": "stream",
     "text": [
      "Collecting semantic-text-similarity\n",
      "  Downloading semantic_text_similarity-1.0.3-py3-none-any.whl (416 kB)\n",
      "Collecting strsim\n",
      "  Downloading strsim-0.0.3-py3-none-any.whl (42 kB)\n",
      "Collecting pytorch-transformers==1.1.0\n",
      "  Downloading pytorch_transformers-1.1.0-py3-none-any.whl (158 kB)\n",
      "Requirement already satisfied: scipy in c:\\users\\biswasshubendu\\anaconda3\\lib\\site-packages (from semantic-text-similarity) (1.6.2)\n",
      "Collecting fuzzywuzzy[speedup]\n",
      "  Downloading fuzzywuzzy-0.18.0-py2.py3-none-any.whl (18 kB)\n",
      "Requirement already satisfied: torch in c:\\users\\biswasshubendu\\anaconda3\\lib\\site-packages (from semantic-text-similarity) (1.9.1)\n",
      "Collecting boto3\n",
      "  Downloading boto3-1.21.15-py3-none-any.whl (132 kB)\n",
      "Requirement already satisfied: numpy in c:\\users\\biswasshubendu\\anaconda3\\lib\\site-packages (from pytorch-transformers==1.1.0->semantic-text-similarity) (1.22.2)\n",
      "Collecting sentencepiece\n",
      "  Downloading sentencepiece-0.1.96-cp38-cp38-win_amd64.whl (1.1 MB)\n",
      "Requirement already satisfied: regex in c:\\users\\biswasshubendu\\anaconda3\\lib\\site-packages (from pytorch-transformers==1.1.0->semantic-text-similarity) (2021.4.4)\n",
      "Requirement already satisfied: requests in c:\\users\\biswasshubendu\\anaconda3\\lib\\site-packages (from pytorch-transformers==1.1.0->semantic-text-similarity) (2.25.1)\n",
      "Requirement already satisfied: tqdm in c:\\users\\biswasshubendu\\anaconda3\\lib\\site-packages (from pytorch-transformers==1.1.0->semantic-text-similarity) (4.59.0)\n",
      "Requirement already satisfied: typing-extensions in c:\\users\\biswasshubendu\\anaconda3\\lib\\site-packages (from torch->semantic-text-similarity) (3.7.4.3)\n",
      "Collecting botocore<1.25.0,>=1.24.15\n",
      "  Downloading botocore-1.24.15-py3-none-any.whl (8.6 MB)\n",
      "Collecting s3transfer<0.6.0,>=0.5.0\n",
      "  Downloading s3transfer-0.5.2-py3-none-any.whl (79 kB)\n",
      "Requirement already satisfied: jmespath<1.0.0,>=0.7.1 in c:\\users\\biswasshubendu\\anaconda3\\lib\\site-packages (from boto3->pytorch-transformers==1.1.0->semantic-text-similarity) (0.10.0)\n",
      "Requirement already satisfied: urllib3<1.27,>=1.25.4 in c:\\users\\biswasshubendu\\anaconda3\\lib\\site-packages (from botocore<1.25.0,>=1.24.15->boto3->pytorch-transformers==1.1.0->semantic-text-similarity) (1.26.4)\n",
      "Requirement already satisfied: python-dateutil<3.0.0,>=2.1 in c:\\users\\biswasshubendu\\anaconda3\\lib\\site-packages (from botocore<1.25.0,>=1.24.15->boto3->pytorch-transformers==1.1.0->semantic-text-similarity) (2.8.2)\n",
      "Requirement already satisfied: six>=1.5 in c:\\users\\biswasshubendu\\anaconda3\\lib\\site-packages (from python-dateutil<3.0.0,>=2.1->botocore<1.25.0,>=1.24.15->boto3->pytorch-transformers==1.1.0->semantic-text-similarity) (1.15.0)\n",
      "Collecting python-levenshtein>=0.12\n",
      "  Downloading python-Levenshtein-0.12.2.tar.gz (50 kB)\n",
      "Requirement already satisfied: setuptools in c:\\users\\biswasshubendu\\anaconda3\\lib\\site-packages (from python-levenshtein>=0.12->fuzzywuzzy[speedup]->semantic-text-similarity) (58.2.0)\n",
      "Requirement already satisfied: chardet<5,>=3.0.2 in c:\\users\\biswasshubendu\\anaconda3\\lib\\site-packages (from requests->pytorch-transformers==1.1.0->semantic-text-similarity) (4.0.0)\n",
      "Requirement already satisfied: idna<3,>=2.5 in c:\\users\\biswasshubendu\\anaconda3\\lib\\site-packages (from requests->pytorch-transformers==1.1.0->semantic-text-similarity) (2.10)\n",
      "Requirement already satisfied: certifi>=2017.4.17 in c:\\users\\biswasshubendu\\anaconda3\\lib\\site-packages (from requests->pytorch-transformers==1.1.0->semantic-text-similarity) (2020.12.5)\n",
      "Building wheels for collected packages: python-levenshtein\n",
      "  Building wheel for python-levenshtein (setup.py): started\n",
      "  Building wheel for python-levenshtein (setup.py): finished with status 'done'\n",
      "  Created wheel for python-levenshtein: filename=python_Levenshtein-0.12.2-cp38-cp38-win_amd64.whl size=80860 sha256=52426ceda51ecddd29b53358daf37ce202952a2996fbb8e7215a40bce0213b79\n",
      "  Stored in directory: c:\\users\\biswasshubendu\\appdata\\local\\pip\\cache\\wheels\\d7\\0c\\76\\042b46eb0df65c3ccd0338f791210c55ab79d209bcc269e2c7\n",
      "Successfully built python-levenshtein\n",
      "Installing collected packages: botocore, s3transfer, sentencepiece, python-levenshtein, fuzzywuzzy, boto3, strsim, pytorch-transformers, semantic-text-similarity\n",
      "Successfully installed boto3-1.21.15 botocore-1.24.15 fuzzywuzzy-0.18.0 python-levenshtein-0.12.2 pytorch-transformers-1.1.0 s3transfer-0.5.2 semantic-text-similarity-1.0.3 sentencepiece-0.1.96 strsim-0.0.3\n"
     ]
    }
   ],
   "source": [
    "!pip install semantic-text-similarity"
   ]
  },
  {
   "cell_type": "code",
   "execution_count": 47,
   "id": "1d5df056",
   "metadata": {},
   "outputs": [
    {
     "name": "stdout",
     "output_type": "stream",
     "text": [
      "Requirement already satisfied: Cython in c:\\users\\biswasshubendu\\anaconda3\\lib\\site-packages (0.29.23)\n"
     ]
    }
   ],
   "source": [
    "!pip install Cython"
   ]
  },
  {
   "cell_type": "code",
   "execution_count": 45,
   "id": "69d4d85f",
   "metadata": {},
   "outputs": [
    {
     "ename": "NameError",
     "evalue": "name '_C' is not defined",
     "output_type": "error",
     "traceback": [
      "\u001b[1;31m---------------------------------------------------------------------------\u001b[0m",
      "\u001b[1;31mNameError\u001b[0m                                 Traceback (most recent call last)",
      "\u001b[1;32m<ipython-input-45-e9e4f2ddff3b>\u001b[0m in \u001b[0;36m<module>\u001b[1;34m\u001b[0m\n\u001b[1;32m----> 1\u001b[1;33m \u001b[1;32mfrom\u001b[0m \u001b[0msemantic_text_similarity\u001b[0m\u001b[1;33m.\u001b[0m\u001b[0mmodels\u001b[0m \u001b[1;32mimport\u001b[0m \u001b[0mWebBertSimilarity\u001b[0m\u001b[1;33m\u001b[0m\u001b[1;33m\u001b[0m\u001b[0m\n\u001b[0m\u001b[0;32m      2\u001b[0m \u001b[1;32mfrom\u001b[0m \u001b[0msemantic_text_similarity\u001b[0m\u001b[1;33m.\u001b[0m\u001b[0mmodels\u001b[0m \u001b[1;32mimport\u001b[0m \u001b[0mClinicalBertSimilarity\u001b[0m\u001b[1;33m\u001b[0m\u001b[1;33m\u001b[0m\u001b[0m\n\u001b[0;32m      3\u001b[0m \u001b[1;33m\u001b[0m\u001b[0m\n\u001b[0;32m      4\u001b[0m \u001b[0mweb_model\u001b[0m \u001b[1;33m=\u001b[0m \u001b[0mWebBertSimilarity\u001b[0m\u001b[1;33m(\u001b[0m\u001b[0mdevice\u001b[0m\u001b[1;33m=\u001b[0m\u001b[1;34m'cpu'\u001b[0m\u001b[1;33m,\u001b[0m \u001b[0mbatch_size\u001b[0m\u001b[1;33m=\u001b[0m\u001b[1;36m10\u001b[0m\u001b[1;33m)\u001b[0m \u001b[1;31m#defaults to GPU prediction\u001b[0m\u001b[1;33m\u001b[0m\u001b[1;33m\u001b[0m\u001b[0m\n\u001b[0;32m      5\u001b[0m \u001b[1;33m\u001b[0m\u001b[0m\n",
      "\u001b[1;32m~\\Anaconda3\\lib\\site-packages\\semantic_text_similarity\\models\\__init__.py\u001b[0m in \u001b[0;36m<module>\u001b[1;34m\u001b[0m\n\u001b[1;32m----> 1\u001b[1;33m \u001b[1;32mfrom\u001b[0m \u001b[1;33m.\u001b[0m\u001b[0mbert\u001b[0m\u001b[1;33m.\u001b[0m\u001b[0mweb_similarity\u001b[0m \u001b[1;32mimport\u001b[0m \u001b[0mWebBertSimilarity\u001b[0m\u001b[1;33m\u001b[0m\u001b[1;33m\u001b[0m\u001b[0m\n\u001b[0m\u001b[0;32m      2\u001b[0m \u001b[1;32mfrom\u001b[0m \u001b[1;33m.\u001b[0m\u001b[0mbert\u001b[0m\u001b[1;33m.\u001b[0m\u001b[0mclinical_similarity\u001b[0m \u001b[1;32mimport\u001b[0m \u001b[0mClinicalBertSimilarity\u001b[0m\u001b[1;33m\u001b[0m\u001b[1;33m\u001b[0m\u001b[0m\n",
      "\u001b[1;32m~\\Anaconda3\\lib\\site-packages\\semantic_text_similarity\\models\\bert\\__init__.py\u001b[0m in \u001b[0;36m<module>\u001b[1;34m\u001b[0m\n\u001b[1;32m----> 1\u001b[1;33m \u001b[1;32mfrom\u001b[0m \u001b[1;33m.\u001b[0m\u001b[0mbert_preprocessing\u001b[0m \u001b[1;32mimport\u001b[0m \u001b[0mbert_sentence_pair_preprocessing\u001b[0m\u001b[1;33m\u001b[0m\u001b[1;33m\u001b[0m\u001b[0m\n\u001b[0m\u001b[0;32m      2\u001b[0m \u001b[1;33m\u001b[0m\u001b[0m\n\u001b[0;32m      3\u001b[0m \u001b[1;32mfrom\u001b[0m \u001b[1;33m.\u001b[0m\u001b[0mclinical_similarity\u001b[0m \u001b[1;32mimport\u001b[0m \u001b[0mClinicalBertSimilarity\u001b[0m\u001b[1;33m\u001b[0m\u001b[1;33m\u001b[0m\u001b[0m\n\u001b[0;32m      4\u001b[0m \u001b[1;32mfrom\u001b[0m \u001b[1;33m.\u001b[0m\u001b[0mweb_similarity\u001b[0m \u001b[1;32mimport\u001b[0m \u001b[0mWebBertSimilarity\u001b[0m\u001b[1;33m\u001b[0m\u001b[1;33m\u001b[0m\u001b[0m\n",
      "\u001b[1;32m~\\Anaconda3\\lib\\site-packages\\semantic_text_similarity\\models\\bert\\bert_preprocessing.py\u001b[0m in \u001b[0;36m<module>\u001b[1;34m\u001b[0m\n\u001b[1;32m----> 1\u001b[1;33m \u001b[1;32mfrom\u001b[0m \u001b[0mpytorch_transformers\u001b[0m \u001b[1;32mimport\u001b[0m \u001b[0mBertTokenizer\u001b[0m\u001b[1;33m\u001b[0m\u001b[1;33m\u001b[0m\u001b[0m\n\u001b[0m\u001b[0;32m      2\u001b[0m \u001b[1;32mimport\u001b[0m \u001b[0mtorch\u001b[0m\u001b[1;33m\u001b[0m\u001b[1;33m\u001b[0m\u001b[0m\n\u001b[0;32m      3\u001b[0m \u001b[1;33m\u001b[0m\u001b[0m\n\u001b[0;32m      4\u001b[0m \u001b[1;33m\u001b[0m\u001b[0m\n\u001b[0;32m      5\u001b[0m \u001b[1;32mdef\u001b[0m \u001b[0m_truncate_seq_pair\u001b[0m\u001b[1;33m(\u001b[0m\u001b[0mtokens_a\u001b[0m\u001b[1;33m,\u001b[0m \u001b[0mtokens_b\u001b[0m\u001b[1;33m,\u001b[0m \u001b[0mmax_length\u001b[0m\u001b[1;33m:\u001b[0m \u001b[0mint\u001b[0m\u001b[1;33m)\u001b[0m\u001b[1;33m:\u001b[0m\u001b[1;33m\u001b[0m\u001b[1;33m\u001b[0m\u001b[0m\n",
      "\u001b[1;32m~\\Anaconda3\\lib\\site-packages\\pytorch_transformers\\__init__.py\u001b[0m in \u001b[0;36m<module>\u001b[1;34m\u001b[0m\n\u001b[0;32m      1\u001b[0m \u001b[0m__version__\u001b[0m \u001b[1;33m=\u001b[0m \u001b[1;34m\"1.1.0\"\u001b[0m\u001b[1;33m\u001b[0m\u001b[1;33m\u001b[0m\u001b[0m\n\u001b[1;32m----> 2\u001b[1;33m \u001b[1;32mfrom\u001b[0m \u001b[1;33m.\u001b[0m\u001b[0mtokenization_auto\u001b[0m \u001b[1;32mimport\u001b[0m \u001b[0mAutoTokenizer\u001b[0m\u001b[1;33m\u001b[0m\u001b[1;33m\u001b[0m\u001b[0m\n\u001b[0m\u001b[0;32m      3\u001b[0m \u001b[1;32mfrom\u001b[0m \u001b[1;33m.\u001b[0m\u001b[0mtokenization_bert\u001b[0m \u001b[1;32mimport\u001b[0m \u001b[0mBertTokenizer\u001b[0m\u001b[1;33m,\u001b[0m \u001b[0mBasicTokenizer\u001b[0m\u001b[1;33m,\u001b[0m \u001b[0mWordpieceTokenizer\u001b[0m\u001b[1;33m\u001b[0m\u001b[1;33m\u001b[0m\u001b[0m\n\u001b[0;32m      4\u001b[0m \u001b[1;32mfrom\u001b[0m \u001b[1;33m.\u001b[0m\u001b[0mtokenization_openai\u001b[0m \u001b[1;32mimport\u001b[0m \u001b[0mOpenAIGPTTokenizer\u001b[0m\u001b[1;33m\u001b[0m\u001b[1;33m\u001b[0m\u001b[0m\n\u001b[0;32m      5\u001b[0m \u001b[1;32mfrom\u001b[0m \u001b[1;33m.\u001b[0m\u001b[0mtokenization_transfo_xl\u001b[0m \u001b[1;32mimport\u001b[0m \u001b[1;33m(\u001b[0m\u001b[0mTransfoXLTokenizer\u001b[0m\u001b[1;33m,\u001b[0m \u001b[0mTransfoXLCorpus\u001b[0m\u001b[1;33m)\u001b[0m\u001b[1;33m\u001b[0m\u001b[1;33m\u001b[0m\u001b[0m\n",
      "\u001b[1;32m~\\Anaconda3\\lib\\site-packages\\pytorch_transformers\\tokenization_auto.py\u001b[0m in \u001b[0;36m<module>\u001b[1;34m\u001b[0m\n\u001b[0;32m     22\u001b[0m \u001b[1;32mfrom\u001b[0m \u001b[1;33m.\u001b[0m\u001b[0mtokenization_openai\u001b[0m \u001b[1;32mimport\u001b[0m \u001b[0mOpenAIGPTTokenizer\u001b[0m\u001b[1;33m\u001b[0m\u001b[1;33m\u001b[0m\u001b[0m\n\u001b[0;32m     23\u001b[0m \u001b[1;32mfrom\u001b[0m \u001b[1;33m.\u001b[0m\u001b[0mtokenization_gpt2\u001b[0m \u001b[1;32mimport\u001b[0m \u001b[0mGPT2Tokenizer\u001b[0m\u001b[1;33m\u001b[0m\u001b[1;33m\u001b[0m\u001b[0m\n\u001b[1;32m---> 24\u001b[1;33m \u001b[1;32mfrom\u001b[0m \u001b[1;33m.\u001b[0m\u001b[0mtokenization_transfo_xl\u001b[0m \u001b[1;32mimport\u001b[0m \u001b[0mTransfoXLTokenizer\u001b[0m\u001b[1;33m\u001b[0m\u001b[1;33m\u001b[0m\u001b[0m\n\u001b[0m\u001b[0;32m     25\u001b[0m \u001b[1;32mfrom\u001b[0m \u001b[1;33m.\u001b[0m\u001b[0mtokenization_xlnet\u001b[0m \u001b[1;32mimport\u001b[0m \u001b[0mXLNetTokenizer\u001b[0m\u001b[1;33m\u001b[0m\u001b[1;33m\u001b[0m\u001b[0m\n\u001b[0;32m     26\u001b[0m \u001b[1;32mfrom\u001b[0m \u001b[1;33m.\u001b[0m\u001b[0mtokenization_xlm\u001b[0m \u001b[1;32mimport\u001b[0m \u001b[0mXLMTokenizer\u001b[0m\u001b[1;33m\u001b[0m\u001b[1;33m\u001b[0m\u001b[0m\n",
      "\u001b[1;32m~\\Anaconda3\\lib\\site-packages\\pytorch_transformers\\tokenization_transfo_xl.py\u001b[0m in \u001b[0;36m<module>\u001b[1;34m\u001b[0m\n\u001b[0;32m     27\u001b[0m \u001b[1;32mfrom\u001b[0m \u001b[0mio\u001b[0m \u001b[1;32mimport\u001b[0m \u001b[0mopen\u001b[0m\u001b[1;33m\u001b[0m\u001b[1;33m\u001b[0m\u001b[0m\n\u001b[0;32m     28\u001b[0m \u001b[1;33m\u001b[0m\u001b[0m\n\u001b[1;32m---> 29\u001b[1;33m \u001b[1;32mimport\u001b[0m \u001b[0mtorch\u001b[0m\u001b[1;33m\u001b[0m\u001b[1;33m\u001b[0m\u001b[0m\n\u001b[0m\u001b[0;32m     30\u001b[0m \u001b[1;32mimport\u001b[0m \u001b[0mnumpy\u001b[0m \u001b[1;32mas\u001b[0m \u001b[0mnp\u001b[0m\u001b[1;33m\u001b[0m\u001b[1;33m\u001b[0m\u001b[0m\n\u001b[0;32m     31\u001b[0m \u001b[1;33m\u001b[0m\u001b[0m\n",
      "\u001b[1;32m~\\Anaconda3\\lib\\site-packages\\torch\\__init__.py\u001b[0m in \u001b[0;36m<module>\u001b[1;34m\u001b[0m\n\u001b[0;32m    227\u001b[0m \u001b[1;33m\u001b[0m\u001b[0m\n\u001b[0;32m    228\u001b[0m \u001b[1;33m\u001b[0m\u001b[0m\n\u001b[1;32m--> 229\u001b[1;33m __all__ += [name for name in dir(_C)\n\u001b[0m\u001b[0;32m    230\u001b[0m             \u001b[1;32mif\u001b[0m \u001b[0mname\u001b[0m\u001b[1;33m[\u001b[0m\u001b[1;36m0\u001b[0m\u001b[1;33m]\u001b[0m \u001b[1;33m!=\u001b[0m \u001b[1;34m'_'\u001b[0m \u001b[1;32mand\u001b[0m\u001b[1;33m\u001b[0m\u001b[1;33m\u001b[0m\u001b[0m\n\u001b[0;32m    231\u001b[0m             not name.endswith('Base')]\n",
      "\u001b[1;31mNameError\u001b[0m: name '_C' is not defined"
     ]
    }
   ],
   "source": [
    "from semantic_text_similarity.models import WebBertSimilarity\n",
    "from semantic_text_similarity.models import ClinicalBertSimilarity\n",
    "\n",
    "web_model = WebBertSimilarity(device='cpu', batch_size=10) #defaults to GPU prediction\n",
    "\n",
    "# clinical_model = ClinicalBertSimilarity(device='cuda', batch_size=10) #defaults to GPU prediction\n",
    "\n",
    "web_model.predict([(\"She won an olympic gold medal\",\"The women is an olympic champion\")])"
   ]
  },
  {
   "cell_type": "code",
   "execution_count": 20,
   "id": "bfa18c00",
   "metadata": {},
   "outputs": [
    {
     "data": {
      "text/plain": [
       "0       condensed consolidated statements of operations\n",
       "1                         consolidated income statement\n",
       "2                        consolidated income statements\n",
       "3                  consolidated profit and loss account\n",
       "4        consolidated statement of comprehensive income\n",
       "5             consolidated statement of profit and loss\n",
       "6                     consolidated statements of income\n",
       "7                 consolidated statements of operations\n",
       "8               group statement of comprehensive income\n",
       "9                     statement of comprehensive income\n",
       "10    statement of financial activities for the year...\n",
       "11     statemnent of profit and loss for the year ended\n",
       "12    unaudited condensed consolidated statements of...\n",
       "dtype: object"
      ]
     },
     "execution_count": 20,
     "metadata": {},
     "output_type": "execute_result"
    }
   ],
   "source": [
    "pl"
   ]
  },
  {
   "cell_type": "code",
   "execution_count": 25,
   "id": "be7e5f1f",
   "metadata": {},
   "outputs": [
    {
     "data": {
      "text/plain": [
       "'condensed consolidated statements of operations'"
      ]
     },
     "execution_count": 25,
     "metadata": {},
     "output_type": "execute_result"
    }
   ],
   "source": [
    "pl[0]"
   ]
  },
  {
   "cell_type": "code",
   "execution_count": 31,
   "id": "3a5d250f",
   "metadata": {},
   "outputs": [
    {
     "data": {
      "text/plain": [
       "13"
      ]
     },
     "execution_count": 31,
     "metadata": {},
     "output_type": "execute_result"
    }
   ],
   "source": [
    "pl.shape[0]"
   ]
  },
  {
   "cell_type": "code",
   "execution_count": 37,
   "id": "9a8b86a4",
   "metadata": {},
   "outputs": [
    {
     "name": "stdout",
     "output_type": "stream",
     "text": [
      "0.4522774424948339\n",
      "0.5285954792089682\n",
      "0.2928932188134524\n",
      "0.6348516283298893\n",
      "0.26970325665977857\n",
      "0.4999999999999999\n",
      "0.18350341907227385\n",
      "0.3876275643042054\n",
      "0.4522774424948339\n",
      "0.3876275643042054\n",
      "0.8556624327025936\n",
      "0.7278344730240913\n",
      "0.33333333333333326\n"
     ]
    }
   ],
   "source": [
    "l2 = \"consolidated statements of comprehensive loss income\".split()\n",
    "for i in range(pl.shape[0]):\n",
    "    l1 = pl[i].split()\n",
    "    v1,v2= buildVector(l1, l2)\n",
    "    print(cluster.util.cosine_distance(v1,v2))"
   ]
  },
  {
   "cell_type": "code",
   "execution_count": 43,
   "id": "dcb6176a",
   "metadata": {},
   "outputs": [
    {
     "name": "stdout",
     "output_type": "stream",
     "text": [
      "1.0\n",
      "1.0\n",
      "0.7958758547680684\n",
      "0.4999999999999999\n",
      "0.8174258141649446\n",
      "0.7642977396044841\n",
      "0.7642977396044841\n",
      "0.7958758547680684\n",
      "0.7958758547680684\n",
      "0.6348516283298893\n",
      "0.4522774424948339\n",
      "0.4999999999999999\n",
      "0.8174258141649446\n",
      "0.7958758547680684\n",
      "0.8333333333333333\n",
      "0.8174258141649446\n"
     ]
    }
   ],
   "source": [
    "l2 = \"consolidated statements of comprehensive loss income\".split()\n",
    "for i in range(bs.shape[0]):\n",
    "    l1 = bs[i].split()\n",
    "    v1,v2= buildVector(l1, l2)\n",
    "    print(cluster.util.cosine_distance(v1,v2))"
   ]
  },
  {
   "cell_type": "code",
   "execution_count": 29,
   "id": "79817936",
   "metadata": {},
   "outputs": [
    {
     "name": "stdout",
     "output_type": "stream",
     "text": [
      "0.18350341907227385\n"
     ]
    }
   ],
   "source": [
    "\n",
    "\n",
    "\n",
    "l1 = pl[6].split()\n",
    "\n",
    "\n",
    "\n",
    "v1,v2= buildVector(l1, l2)\n",
    "print(cluster.util.cosine_distance(v1,v2))"
   ]
  },
  {
   "cell_type": "code",
   "execution_count": 15,
   "id": "47bbf358",
   "metadata": {},
   "outputs": [
    {
     "ename": "ValueError",
     "evalue": "Incompatible dimension for X and Y matrices: X.shape[1] == 21 while Y.shape[1] == 6",
     "output_type": "error",
     "traceback": [
      "\u001b[1;31m---------------------------------------------------------------------------\u001b[0m",
      "\u001b[1;31mValueError\u001b[0m                                Traceback (most recent call last)",
      "\u001b[1;32m<ipython-input-15-66fd027fc781>\u001b[0m in \u001b[0;36m<module>\u001b[1;34m\u001b[0m\n\u001b[1;32m----> 1\u001b[1;33m \u001b[0mcosine_similarity\u001b[0m\u001b[1;33m(\u001b[0m\u001b[0mpl_vect\u001b[0m\u001b[1;33m,\u001b[0m\u001b[0mtest_vect\u001b[0m\u001b[1;33m)\u001b[0m\u001b[1;33m\u001b[0m\u001b[1;33m\u001b[0m\u001b[0m\n\u001b[0m",
      "\u001b[1;32m~\\Anaconda3\\lib\\site-packages\\sklearn\\metrics\\pairwise.py\u001b[0m in \u001b[0;36mcosine_similarity\u001b[1;34m(X, Y, dense_output)\u001b[0m\n\u001b[0;32m   1178\u001b[0m     \u001b[1;31m# to avoid recursive import\u001b[0m\u001b[1;33m\u001b[0m\u001b[1;33m\u001b[0m\u001b[1;33m\u001b[0m\u001b[0m\n\u001b[0;32m   1179\u001b[0m \u001b[1;33m\u001b[0m\u001b[0m\n\u001b[1;32m-> 1180\u001b[1;33m     \u001b[0mX\u001b[0m\u001b[1;33m,\u001b[0m \u001b[0mY\u001b[0m \u001b[1;33m=\u001b[0m \u001b[0mcheck_pairwise_arrays\u001b[0m\u001b[1;33m(\u001b[0m\u001b[0mX\u001b[0m\u001b[1;33m,\u001b[0m \u001b[0mY\u001b[0m\u001b[1;33m)\u001b[0m\u001b[1;33m\u001b[0m\u001b[1;33m\u001b[0m\u001b[0m\n\u001b[0m\u001b[0;32m   1181\u001b[0m \u001b[1;33m\u001b[0m\u001b[0m\n\u001b[0;32m   1182\u001b[0m     \u001b[0mX_normalized\u001b[0m \u001b[1;33m=\u001b[0m \u001b[0mnormalize\u001b[0m\u001b[1;33m(\u001b[0m\u001b[0mX\u001b[0m\u001b[1;33m,\u001b[0m \u001b[0mcopy\u001b[0m\u001b[1;33m=\u001b[0m\u001b[1;32mTrue\u001b[0m\u001b[1;33m)\u001b[0m\u001b[1;33m\u001b[0m\u001b[1;33m\u001b[0m\u001b[0m\n",
      "\u001b[1;32m~\\Anaconda3\\lib\\site-packages\\sklearn\\utils\\validation.py\u001b[0m in \u001b[0;36minner_f\u001b[1;34m(*args, **kwargs)\u001b[0m\n\u001b[0;32m     61\u001b[0m             \u001b[0mextra_args\u001b[0m \u001b[1;33m=\u001b[0m \u001b[0mlen\u001b[0m\u001b[1;33m(\u001b[0m\u001b[0margs\u001b[0m\u001b[1;33m)\u001b[0m \u001b[1;33m-\u001b[0m \u001b[0mlen\u001b[0m\u001b[1;33m(\u001b[0m\u001b[0mall_args\u001b[0m\u001b[1;33m)\u001b[0m\u001b[1;33m\u001b[0m\u001b[1;33m\u001b[0m\u001b[0m\n\u001b[0;32m     62\u001b[0m             \u001b[1;32mif\u001b[0m \u001b[0mextra_args\u001b[0m \u001b[1;33m<=\u001b[0m \u001b[1;36m0\u001b[0m\u001b[1;33m:\u001b[0m\u001b[1;33m\u001b[0m\u001b[1;33m\u001b[0m\u001b[0m\n\u001b[1;32m---> 63\u001b[1;33m                 \u001b[1;32mreturn\u001b[0m \u001b[0mf\u001b[0m\u001b[1;33m(\u001b[0m\u001b[1;33m*\u001b[0m\u001b[0margs\u001b[0m\u001b[1;33m,\u001b[0m \u001b[1;33m**\u001b[0m\u001b[0mkwargs\u001b[0m\u001b[1;33m)\u001b[0m\u001b[1;33m\u001b[0m\u001b[1;33m\u001b[0m\u001b[0m\n\u001b[0m\u001b[0;32m     64\u001b[0m \u001b[1;33m\u001b[0m\u001b[0m\n\u001b[0;32m     65\u001b[0m             \u001b[1;31m# extra_args > 0\u001b[0m\u001b[1;33m\u001b[0m\u001b[1;33m\u001b[0m\u001b[1;33m\u001b[0m\u001b[0m\n",
      "\u001b[1;32m~\\Anaconda3\\lib\\site-packages\\sklearn\\metrics\\pairwise.py\u001b[0m in \u001b[0;36mcheck_pairwise_arrays\u001b[1;34m(X, Y, precomputed, dtype, accept_sparse, force_all_finite, copy)\u001b[0m\n\u001b[0;32m    158\u001b[0m                              (X.shape[0], X.shape[1], Y.shape[0]))\n\u001b[0;32m    159\u001b[0m     \u001b[1;32melif\u001b[0m \u001b[0mX\u001b[0m\u001b[1;33m.\u001b[0m\u001b[0mshape\u001b[0m\u001b[1;33m[\u001b[0m\u001b[1;36m1\u001b[0m\u001b[1;33m]\u001b[0m \u001b[1;33m!=\u001b[0m \u001b[0mY\u001b[0m\u001b[1;33m.\u001b[0m\u001b[0mshape\u001b[0m\u001b[1;33m[\u001b[0m\u001b[1;36m1\u001b[0m\u001b[1;33m]\u001b[0m\u001b[1;33m:\u001b[0m\u001b[1;33m\u001b[0m\u001b[1;33m\u001b[0m\u001b[0m\n\u001b[1;32m--> 160\u001b[1;33m         raise ValueError(\"Incompatible dimension for X and Y matrices: \"\n\u001b[0m\u001b[0;32m    161\u001b[0m                          \"X.shape[1] == %d while Y.shape[1] == %d\" % (\n\u001b[0;32m    162\u001b[0m                              X.shape[1], Y.shape[1]))\n",
      "\u001b[1;31mValueError\u001b[0m: Incompatible dimension for X and Y matrices: X.shape[1] == 21 while Y.shape[1] == 6"
     ]
    }
   ],
   "source": [
    "cosine_similarity(pl_vect,test_vect)"
   ]
  },
  {
   "cell_type": "markdown",
   "id": "18d4d7b9",
   "metadata": {},
   "source": [
    "# SPACY"
   ]
  },
  {
   "cell_type": "code",
   "execution_count": 13,
   "id": "8c1ae71c",
   "metadata": {},
   "outputs": [],
   "source": [
    "# !python -m spacy download en_core_web_lg "
   ]
  },
  {
   "cell_type": "code",
   "execution_count": 14,
   "id": "6a288e74",
   "metadata": {},
   "outputs": [
    {
     "name": "stdout",
     "output_type": "stream",
     "text": [
      "0.7003971105290047\n",
      "0.9671912343259517\n",
      "0.6121211244876517\n"
     ]
    }
   ],
   "source": [
    "import spacy\n",
    "nlp = spacy.load(\"en_core_web_lg\")\n",
    "#nlp = spacy.load(\"en_core_web_md\")\n",
    "\n",
    "\n",
    "doc1 = nlp(u'the person wear red T-shirt')\n",
    "doc2 = nlp(u'this person is walking')\n",
    "doc3 = nlp(u'the boy wear red T-shirt')\n",
    "\n",
    "\n",
    "print(doc1.similarity(doc2)) \n",
    "print(doc1.similarity(doc3))\n",
    "print(doc2.similarity(doc3)) "
   ]
  },
  {
   "cell_type": "markdown",
   "id": "696b01a0",
   "metadata": {},
   "source": [
    "# SBERT"
   ]
  },
  {
   "cell_type": "code",
   "execution_count": 1,
   "id": "92c4276e",
   "metadata": {},
   "outputs": [
    {
     "data": {
      "application/vnd.jupyter.widget-view+json": {
       "model_id": "6937561f2b2d4576a309bcebb38270dd",
       "version_major": 2,
       "version_minor": 0
      },
      "text/plain": [
       "Downloading:   0%|          | 0.00/391 [00:00<?, ?B/s]"
      ]
     },
     "metadata": {},
     "output_type": "display_data"
    },
    {
     "data": {
      "application/vnd.jupyter.widget-view+json": {
       "model_id": "ee5669410b3e4b299a509db6fc1f0bd9",
       "version_major": 2,
       "version_minor": 0
      },
      "text/plain": [
       "Downloading:   0%|          | 0.00/3.95k [00:00<?, ?B/s]"
      ]
     },
     "metadata": {},
     "output_type": "display_data"
    },
    {
     "data": {
      "application/vnd.jupyter.widget-view+json": {
       "model_id": "1d76fa88d467411faebdbf100db59b4f",
       "version_major": 2,
       "version_minor": 0
      },
      "text/plain": [
       "Downloading:   0%|          | 0.00/2.00 [00:00<?, ?B/s]"
      ]
     },
     "metadata": {},
     "output_type": "display_data"
    },
    {
     "data": {
      "application/vnd.jupyter.widget-view+json": {
       "model_id": "723d25950bc24e05980179a0ddb2b6f9",
       "version_major": 2,
       "version_minor": 0
      },
      "text/plain": [
       "Downloading:   0%|          | 0.00/625 [00:00<?, ?B/s]"
      ]
     },
     "metadata": {},
     "output_type": "display_data"
    },
    {
     "data": {
      "application/vnd.jupyter.widget-view+json": {
       "model_id": "4a3cbb7cd0a641e789ba66f4705169da",
       "version_major": 2,
       "version_minor": 0
      },
      "text/plain": [
       "Downloading:   0%|          | 0.00/122 [00:00<?, ?B/s]"
      ]
     },
     "metadata": {},
     "output_type": "display_data"
    },
    {
     "data": {
      "application/vnd.jupyter.widget-view+json": {
       "model_id": "1a7a560e3fed43e7987273dc6ee52363",
       "version_major": 2,
       "version_minor": 0
      },
      "text/plain": [
       "Downloading:   0%|          | 0.00/229 [00:00<?, ?B/s]"
      ]
     },
     "metadata": {},
     "output_type": "display_data"
    },
    {
     "data": {
      "application/vnd.jupyter.widget-view+json": {
       "model_id": "ae8f9b4fcaee47ca9dfa8a545e3a15f8",
       "version_major": 2,
       "version_minor": 0
      },
      "text/plain": [
       "Downloading:   0%|          | 0.00/438M [00:00<?, ?B/s]"
      ]
     },
     "metadata": {},
     "output_type": "display_data"
    },
    {
     "data": {
      "application/vnd.jupyter.widget-view+json": {
       "model_id": "9a7e45264573420b9d190f0708d9e81a",
       "version_major": 2,
       "version_minor": 0
      },
      "text/plain": [
       "Downloading:   0%|          | 0.00/53.0 [00:00<?, ?B/s]"
      ]
     },
     "metadata": {},
     "output_type": "display_data"
    },
    {
     "data": {
      "application/vnd.jupyter.widget-view+json": {
       "model_id": "28cca0df51a84d13a42c8f413832436f",
       "version_major": 2,
       "version_minor": 0
      },
      "text/plain": [
       "Downloading:   0%|          | 0.00/112 [00:00<?, ?B/s]"
      ]
     },
     "metadata": {},
     "output_type": "display_data"
    },
    {
     "data": {
      "application/vnd.jupyter.widget-view+json": {
       "model_id": "82ad6436ec2f44b7806caf7eb2fa57ed",
       "version_major": 2,
       "version_minor": 0
      },
      "text/plain": [
       "Downloading:   0%|          | 0.00/466k [00:00<?, ?B/s]"
      ]
     },
     "metadata": {},
     "output_type": "display_data"
    },
    {
     "data": {
      "application/vnd.jupyter.widget-view+json": {
       "model_id": "16e8d83e7b7b4114a3691d12505030a5",
       "version_major": 2,
       "version_minor": 0
      },
      "text/plain": [
       "Downloading:   0%|          | 0.00/399 [00:00<?, ?B/s]"
      ]
     },
     "metadata": {},
     "output_type": "display_data"
    },
    {
     "data": {
      "application/vnd.jupyter.widget-view+json": {
       "model_id": "3a940360c59a40a482e73acc66552351",
       "version_major": 2,
       "version_minor": 0
      },
      "text/plain": [
       "Downloading:   0%|          | 0.00/232k [00:00<?, ?B/s]"
      ]
     },
     "metadata": {},
     "output_type": "display_data"
    },
    {
     "data": {
      "application/vnd.jupyter.widget-view+json": {
       "model_id": "c04f94ebb34a478eaa62d5f8d3b37c99",
       "version_major": 2,
       "version_minor": 0
      },
      "text/plain": [
       "Downloading:   0%|          | 0.00/190 [00:00<?, ?B/s]"
      ]
     },
     "metadata": {},
     "output_type": "display_data"
    }
   ],
   "source": [
    "from sentence_transformers import SentenceTransformer\n",
    "\n",
    "model = SentenceTransformer('bert-base-nli-mean-tokens')"
   ]
  },
  {
   "cell_type": "code",
   "execution_count": 17,
   "id": "1c1e46cb",
   "metadata": {},
   "outputs": [
    {
     "data": {
      "text/plain": [
       "0       condensed consolidated statements of operations\n",
       "1                         consolidated income statement\n",
       "2                        consolidated income statements\n",
       "3                  consolidated profit and loss account\n",
       "4        consolidated statement of comprehensive income\n",
       "5             consolidated statement of profit and loss\n",
       "6                     consolidated statements of income\n",
       "7                 consolidated statements of operations\n",
       "8               group statement of comprehensive income\n",
       "9                     statement of comprehensive income\n",
       "10    statement of financial activities for the year...\n",
       "11     statemnent of profit and loss for the year ended\n",
       "12    unaudited condensed consolidated statements of...\n",
       "dtype: object"
      ]
     },
     "execution_count": 17,
     "metadata": {},
     "output_type": "execute_result"
    }
   ],
   "source": [
    "pl"
   ]
  },
  {
   "cell_type": "code",
   "execution_count": 23,
   "id": "e0f1ce0c",
   "metadata": {},
   "outputs": [],
   "source": [
    "query = [\"consolidated statements of comprehensive loss income\"]"
   ]
  },
  {
   "cell_type": "code",
   "execution_count": 41,
   "id": "7a38796e",
   "metadata": {},
   "outputs": [],
   "source": [
    "a = \"purple is the best city in the forest\"\n",
    "b = \"there is an art to getting your way and throwing bananas on to the street is not it\"  # this is very similar to 'g'\n",
    "c = \"it is not often you find soggy bananas on the street\"\n",
    "d = \"green should have smelled more tranquil but somehow it just tasted rotten\"\n",
    "e = \"joyce enjoyed eating pancakes with ketchup\"\n",
    "f = \"as the asteroid hurtled toward earth becky was upset her dentist appointment had been canceled\"\n",
    "g = \"to get your way you must not bombard the road with yellow fruit\"  # this is very similar to 'b'"
   ]
  },
  {
   "cell_type": "code",
   "execution_count": 35,
   "id": "68732eb1",
   "metadata": {},
   "outputs": [
    {
     "data": {
      "text/plain": [
       "['condensed consolidated statements of operations',\n",
       " 'consolidated income statement',\n",
       " 'consolidated income statements',\n",
       " 'consolidated profit and loss account',\n",
       " 'consolidated statement of comprehensive income',\n",
       " 'consolidated statement of profit and loss',\n",
       " 'consolidated statements of income',\n",
       " 'consolidated statements of operations',\n",
       " 'group statement of comprehensive income',\n",
       " 'statement of comprehensive income',\n",
       " 'statement of financial activities for the year ended',\n",
       " 'statemnent of profit and loss for the year ended',\n",
       " 'unaudited condensed consolidated statements of loss',\n",
       " 'consolidated statements of comprehensive loss income']"
      ]
     },
     "execution_count": 35,
     "metadata": {},
     "output_type": "execute_result"
    }
   ],
   "source": [
    "nn = list(pl) + query\n",
    "nn"
   ]
  },
  {
   "cell_type": "code",
   "execution_count": 56,
   "id": "35e6cd03",
   "metadata": {},
   "outputs": [],
   "source": [
    "a ='condensed consolidated statements of operations'\n",
    "b = 'consolidated income statement'\n",
    "c = 'consolidated income statements'\n",
    "d ='consolidated profit and loss account'\n",
    "e = 'consolidated statement of comprehensive income'\n",
    "f = 'consolidated statement of profit and loss'\n",
    "g = 'consolidated statements of income'\n",
    "h = 'consolidated statements of operations'\n",
    "i = 'group statement of comprehensive income'\n",
    "j = 'statement of comprehensive income' \n",
    "k = 'statement of financial activities for the year ended'\n",
    "l = 'statemnent of profit and loss for the year ended'\n",
    "m = 'unaudited condensed consolidated statements of loss'\n",
    "n = 'consolidated statements of comprehensive loss income'"
   ]
  },
  {
   "cell_type": "code",
   "execution_count": 57,
   "id": "e92aa478",
   "metadata": {},
   "outputs": [
    {
     "data": {
      "text/plain": [
       "['condensed consolidated statements of operations',\n",
       " 'consolidated income statement',\n",
       " 'consolidated income statements',\n",
       " 'consolidated profit and loss account',\n",
       " 'consolidated statement of comprehensive income',\n",
       " 'consolidated statement of profit and loss',\n",
       " 'consolidated statements of income',\n",
       " 'consolidated statements of operations',\n",
       " 'group statement of comprehensive income',\n",
       " 'statement of comprehensive income',\n",
       " 'statement of financial activities for the year ended',\n",
       " 'statemnent of profit and loss for the year ended',\n",
       " 'unaudited condensed consolidated statements of loss',\n",
       " 'consolidated statements of comprehensive loss income']"
      ]
     },
     "execution_count": 57,
     "metadata": {},
     "output_type": "execute_result"
    }
   ],
   "source": [
    "[a, b, c, d, e, f, g, h, i, j, k, l, m, n]"
   ]
  },
  {
   "cell_type": "code",
   "execution_count": 74,
   "id": "4f174804",
   "metadata": {},
   "outputs": [
    {
     "data": {
      "text/plain": [
       "['condensed consolidated statements of operations',\n",
       " 'consolidated income statement',\n",
       " 'consolidated income statements',\n",
       " 'consolidated profit and loss account',\n",
       " 'consolidated statement of comprehensive income',\n",
       " 'consolidated statement of profit and loss',\n",
       " 'consolidated statements of income',\n",
       " 'consolidated statements of operations',\n",
       " 'group statement of comprehensive income',\n",
       " 'statement of comprehensive income',\n",
       " 'statement of financial activities for the year ended',\n",
       " 'statemnent of profit and loss for the year ended',\n",
       " 'unaudited condensed consolidated statements of loss',\n",
       " 'consolidated statements of comprehensive loss income']"
      ]
     },
     "execution_count": 74,
     "metadata": {},
     "output_type": "execute_result"
    }
   ],
   "source": [
    "kk = list(pl)\n",
    "kk.append('consolidated statements of comprehensive loss income')\n",
    "kk"
   ]
  },
  {
   "cell_type": "code",
   "execution_count": 75,
   "id": "22f27cf7",
   "metadata": {},
   "outputs": [],
   "source": [
    "# sentence_embeddings = model.encode([a, b, c, d, e, f, g, h, i, j, k, l, m, n])\n",
    "sentence_embeddings = model.encode(kk)\n",
    "cols = ['a',' b', 'c', 'd', 'e', 'f', 'g', 'h', 'i', 'j', 'k', 'l', 'm', 'n']"
   ]
  },
  {
   "cell_type": "code",
   "execution_count": 77,
   "id": "64df4e0a",
   "metadata": {},
   "outputs": [
    {
     "data": {
      "text/plain": [
       "(14, 768)"
      ]
     },
     "execution_count": 77,
     "metadata": {},
     "output_type": "execute_result"
    }
   ],
   "source": [
    "sentence_embeddings.shape"
   ]
  },
  {
   "cell_type": "code",
   "execution_count": 166,
   "id": "55badd09",
   "metadata": {},
   "outputs": [],
   "source": [
    "# from sklearn.metrics.pairwise import cosine_similarity\n",
    "# import numpy as np\n",
    "\n",
    "# # calculate similarities (will store in array)\n",
    "# scores = np.zeros((sentence_embeddings.shape[0], sentence_embeddings.shape[0]))\n",
    "# for i in range(sentence_embeddings.shape[0]):\n",
    "#     scores[i, :] = cosine_similarity([sentence_embeddings[i]],sentence_embeddings)[0]\n",
    "# import pandas as pd\n",
    "# pl_score = pd.DataFrame(scores, columns=cols).drop('n',1)\n",
    "# pl_score.iloc[13].max()"
   ]
  },
  {
   "cell_type": "markdown",
   "id": "3a6ad345",
   "metadata": {},
   "source": [
    "# approach 6"
   ]
  },
  {
   "cell_type": "markdown",
   "id": "e511a704",
   "metadata": {},
   "source": [
    "# bs"
   ]
  },
  {
   "cell_type": "code",
   "execution_count": 165,
   "id": "7f35ed3f",
   "metadata": {},
   "outputs": [],
   "source": [
    "bs = ['balance sheet as on' ,\n",
    "'balance sheets',\n",
    "'condensed consolidated balance sheets',\n",
    "'condensed consolidated statements of financial position',\n",
    "'consolidated and company balance sheets',\n",
    "'consolidated balance sheet',\n",
    "'consolidated balance sheets',\n",
    "'consolidated balance sheets (unaudited)',\n",
    "'consolidated condensed balance sheets',\n",
    "'consolidated statement of financial position',\n",
    "'consolidated statements of financial condition',\n",
    "'consolidated statements of financial position (unaudited)',\n",
    "'group statement of financial position',\n",
    "'statement of financial position',\n",
    "'statement of financial position as at',\n",
    "'unaudited condensed consolidated balance sheets']\n"
   ]
  },
  {
   "cell_type": "code",
   "execution_count": 92,
   "id": "2453b829",
   "metadata": {},
   "outputs": [
    {
     "data": {
      "text/plain": [
       "(17, 768)"
      ]
     },
     "execution_count": 92,
     "metadata": {},
     "output_type": "execute_result"
    }
   ],
   "source": [
    "sentence_embeddings = model.encode(bs)\n",
    "sentence_embeddings.shape"
   ]
  },
  {
   "cell_type": "code",
   "execution_count": 164,
   "id": "4c68f29a",
   "metadata": {},
   "outputs": [],
   "source": [
    "# # calculate similarities (will store in array)\n",
    "# scores = np.zeros((sentence_embeddings.shape[0], sentence_embeddings.shape[0]))\n",
    "# for i in range(sentence_embeddings.shape[0]):\n",
    "#     scores[i, :] = cosine_similarity([sentence_embeddings[i]],sentence_embeddings)[0]\n",
    "# import pandas as pd\n",
    "# bs_score = pd.DataFrame(scores)\n",
    "# bs_score"
   ]
  },
  {
   "cell_type": "markdown",
   "id": "5846a08d",
   "metadata": {},
   "source": [
    "# final"
   ]
  },
  {
   "cell_type": "code",
   "execution_count": null,
   "id": "6f1ec4b8",
   "metadata": {},
   "outputs": [],
   "source": [
    "bs = ['balance sheet as on' ,\n",
    "'balance sheets',\n",
    "'condensed consolidated balance sheets',\n",
    "'condensed consolidated statements of financial position',\n",
    "'consolidated and company balance sheets',\n",
    "'consolidated balance sheet',\n",
    "'consolidated balance sheets',\n",
    "'consolidated balance sheets unaudited',\n",
    "'consolidated condensed balance sheets',\n",
    "'consolidated statement of financial position',\n",
    "'consolidated statements of financial condition',\n",
    "'consolidated statements of financial position unaudited',\n",
    "'group statement of financial position',\n",
    "'statement of financial position',\n",
    "'statement of financial position as at',\n",
    " 'unaudited condensed consolidated balance sheets']"
   ]
  },
  {
   "cell_type": "code",
   "execution_count": 167,
   "id": "25593a4d",
   "metadata": {},
   "outputs": [],
   "source": [
    "cf = ['condensed consolidated statements of cash flows',\n",
    "'condensed consolidated statements of cash flows unaudited',\n",
    "'consolidated cash flow statement',\n",
    "'consolidated condensed statements of cash flows',\n",
    "'consolidated statement of cash flows',\n",
    "'consolidated statements of cash flows',\n",
    "'consolidated statements of cash flows unaudited',\n",
    "'consolidated statements of cash flows unaudited',\n",
    "'group statement of cash flows',\n",
    "'statement of cash flow',\n",
    "'statement of cash flows for the year ended' ,\n",
    "'statement of cash flows for the year ended',\n",
    "'statement of consolidated cash flows',\n",
    "'unaudited condensed consolidated statements of cash flows']"
   ]
  },
  {
   "cell_type": "code",
   "execution_count": 168,
   "id": "bc4977bc",
   "metadata": {},
   "outputs": [],
   "source": [
    "pl = ['condensed consolidated statements of operations',\n",
    "'consolidated income statement',\n",
    "'consolidated income statements',\n",
    "'consolidated profit and loss account',\n",
    "'consolidated statement of comprehensive income',\n",
    "'consolidated statement of profit and loss',\n",
    "'consolidated statements of income',\n",
    "'consolidated statements of operations',\n",
    "'group statement of comprehensive income',\n",
    "'statement of comprehensive income',\n",
    "'statement of financial activities for the year ended',\n",
    "'statemnent of profit and loss for the year ended',\n",
    "'unaudited condensed consolidated statements of loss',]"
   ]
  },
  {
   "cell_type": "code",
   "execution_count": 178,
   "id": "9a334d09",
   "metadata": {},
   "outputs": [],
   "source": [
    "query = [\"consolidated statements of comprehensive loss income\"] #pl"
   ]
  },
  {
   "cell_type": "code",
   "execution_count": 189,
   "id": "801709e7",
   "metadata": {},
   "outputs": [
    {
     "data": {
      "text/plain": [
       "0.9116573"
      ]
     },
     "execution_count": 189,
     "metadata": {},
     "output_type": "execute_result"
    }
   ],
   "source": [
    "final = pl + query\n",
    "sentence_embeddings = model.encode(final)\n",
    "np.sort(cosine_similarity([sentence_embeddings[sentence_embeddings.shape[0]-1]],sentence_embeddings)[0])[-2]"
   ]
  },
  {
   "cell_type": "code",
   "execution_count": 187,
   "id": "970a4be2",
   "metadata": {},
   "outputs": [],
   "source": [
    "#cf 0.79458845\n",
    "#bs 0.8145328\n",
    "#pl 0.9116573"
   ]
  },
  {
   "cell_type": "code",
   "execution_count": null,
   "id": "7ebd9719",
   "metadata": {},
   "outputs": [],
   "source": []
  }
 ],
 "metadata": {
  "kernelspec": {
   "display_name": "Python 3",
   "language": "python",
   "name": "python3"
  },
  "language_info": {
   "codemirror_mode": {
    "name": "ipython",
    "version": 3
   },
   "file_extension": ".py",
   "mimetype": "text/x-python",
   "name": "python",
   "nbconvert_exporter": "python",
   "pygments_lexer": "ipython3",
   "version": "3.8.8"
  }
 },
 "nbformat": 4,
 "nbformat_minor": 5
}
