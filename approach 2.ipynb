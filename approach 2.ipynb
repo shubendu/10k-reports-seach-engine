{
 "cells": [
  {
   "cell_type": "code",
   "execution_count": 1,
   "id": "a1c7fa5e",
   "metadata": {},
   "outputs": [],
   "source": [
    "import pandas as pd\n",
    "from sklearn.feature_extraction.text import TfidfVectorizer\n",
    "from sklearn.metrics.pairwise import cosine_similarity\n",
    "import math\n",
    "from collections import Counter\n",
    "from nltk import cluster\n",
    "\n",
    "def buildVector(iterable1, iterable2):\n",
    "    counter1 = Counter(iterable1)\n",
    "    counter2= Counter(iterable2)\n",
    "    all_items = set(counter1.keys()).union( set(counter2.keys()) )\n",
    "    vector1 = [counter1[k] for k in all_items]\n",
    "    vector2 = [counter2[k] for k in all_items]\n",
    "    return vector1, vector2"
   ]
  },
  {
   "cell_type": "code",
   "execution_count": 2,
   "id": "db2561f2",
   "metadata": {},
   "outputs": [
    {
     "data": {
      "text/plain": [
       "0       condensed consolidated statements of cash flows\n",
       "1     condensed consolidated statements of cash flow...\n",
       "2                      consolidated cash flow statement\n",
       "3       consolidated condensed statements of cash flows\n",
       "4                  consolidated statement of cash flows\n",
       "5                 consolidated statements of cash flows\n",
       "6     consolidated statements of cash flows (unaudited)\n",
       "7     consolidated statements of cash flows (unaudited)\n",
       "8                         group statement of cash flows\n",
       "9                                statement of cash flow\n",
       "10           statement of cash flows for the year ended\n",
       "11           statement of cash flows for the year ended\n",
       "12                 statement of consolidated cash flows\n",
       "13    unaudited condensed consolidated statements of...\n",
       "dtype: object"
      ]
     },
     "execution_count": 2,
     "metadata": {},
     "output_type": "execute_result"
    }
   ],
   "source": [
    "cf = ['condensed consolidated statements of cash flows',\n",
    "'condensed consolidated statements of cash flows (unaudited)',\n",
    "'consolidated cash flow statement',\n",
    "'consolidated condensed statements of cash flows',\n",
    "'consolidated statement of cash flows',\n",
    "'consolidated statements of cash flows',\n",
    "'consolidated statements of cash flows (unaudited)',\n",
    "'consolidated statements of cash flows (unaudited)',\n",
    "'group statement of cash flows',\n",
    "'statement of cash flow',\n",
    "'statement of cash flows for the year ended' ,\n",
    "'statement of cash flows for the year ended',\n",
    "'statement of consolidated cash flows',\n",
    "'unaudited condensed consolidated statements of cash flows',]\n",
    "\n",
    "cf = pd.Series(cf)\n",
    "cf"
   ]
  },
  {
   "cell_type": "code",
   "execution_count": 3,
   "id": "402de32f",
   "metadata": {},
   "outputs": [
    {
     "data": {
      "text/plain": [
       "0                                   balance sheet as on\n",
       "1                                        balance sheets\n",
       "2                 condensed consolidated balance sheets\n",
       "3     condensed consolidated statements of financial...\n",
       "4               consolidated and company balance sheets\n",
       "5                            consolidated balance sheet\n",
       "6                           consolidated balance sheets\n",
       "7               consolidated balance sheets (unaudited)\n",
       "8                 consolidated condensed balance sheets\n",
       "9          consolidated statement of financial position\n",
       "10       consolidated statements of financial condition\n",
       "11    consolidated statements of financial position ...\n",
       "12                group statement of financial position\n",
       "13                      statement of financial position\n",
       "14                statement of financial position as at\n",
       "15      unaudited condensed consolidated balance sheets\n",
       "dtype: object"
      ]
     },
     "execution_count": 3,
     "metadata": {},
     "output_type": "execute_result"
    }
   ],
   "source": [
    "s2 = ['balance sheet as on' ,\n",
    "'balance sheets',\n",
    "'condensed consolidated balance sheets',\n",
    "'condensed consolidated statements of financial position',\n",
    "'consolidated and company balance sheets',\n",
    "'consolidated balance sheet',\n",
    "'consolidated balance sheets',\n",
    "'consolidated balance sheets (unaudited)',\n",
    "'consolidated condensed balance sheets',\n",
    "'consolidated statement of financial position',\n",
    "'consolidated statements of financial condition',\n",
    "'consolidated statements of financial position (unaudited)',\n",
    "'group statement of financial position',\n",
    "'statement of financial position',\n",
    "'statement of financial position as at',\n",
    "'unaudited condensed consolidated balance sheets']\n",
    "bs = pd.Series(s2)\n",
    "bs"
   ]
  },
  {
   "cell_type": "code",
   "execution_count": 4,
   "id": "42898a94",
   "metadata": {},
   "outputs": [
    {
     "data": {
      "text/plain": [
       "0       condensed consolidated statements of operations\n",
       "1                         consolidated income statement\n",
       "2                        consolidated income statements\n",
       "3                  consolidated profit and loss account\n",
       "4        consolidated statement of comprehensive income\n",
       "5             consolidated statement of profit and loss\n",
       "6                     consolidated statements of income\n",
       "7                 consolidated statements of operations\n",
       "8               group statement of comprehensive income\n",
       "9                     statement of comprehensive income\n",
       "10    statement of financial activities for the year...\n",
       "11     statemnent of profit and loss for the year ended\n",
       "12    unaudited condensed consolidated statements of...\n",
       "dtype: object"
      ]
     },
     "execution_count": 4,
     "metadata": {},
     "output_type": "execute_result"
    }
   ],
   "source": [
    "s1 = ['condensed consolidated statements of operations',\n",
    "'consolidated income statement',\n",
    "'consolidated income statements',\n",
    "'consolidated profit and loss account',\n",
    "'consolidated statement of comprehensive income',\n",
    "'consolidated statement of profit and loss',\n",
    "'consolidated statements of income',\n",
    "'consolidated statements of operations',\n",
    "'group statement of comprehensive income',\n",
    "'statement of comprehensive income',\n",
    "'statement of financial activities for the year ended',\n",
    "'statemnent of profit and loss for the year ended',\n",
    "'unaudited condensed consolidated statements of loss',]\n",
    "pl = pd.Series(s1)\n",
    "pl"
   ]
  },
  {
   "cell_type": "code",
   "execution_count": 12,
   "id": "6a292b75",
   "metadata": {},
   "outputs": [
    {
     "data": {
      "text/plain": [
       "<13x21 sparse matrix of type '<class 'numpy.float64'>'\n",
       "\twith 67 stored elements in Compressed Sparse Row format>"
      ]
     },
     "execution_count": 12,
     "metadata": {},
     "output_type": "execute_result"
    }
   ],
   "source": [
    "vectorizer = TfidfVectorizer()\n",
    "pl_vect = vectorizer.fit_transform(pl)\n",
    "pl_vect"
   ]
  },
  {
   "cell_type": "code",
   "execution_count": null,
   "id": "2857fd4c",
   "metadata": {},
   "outputs": [],
   "source": [
    "ol = \"statements of operations income statement\""
   ]
  },
  {
   "cell_type": "code",
   "execution_count": 16,
   "id": "4e4a94a0",
   "metadata": {},
   "outputs": [
    {
     "data": {
      "text/plain": [
       "<1x6 sparse matrix of type '<class 'numpy.float64'>'\n",
       "\twith 6 stored elements in Compressed Sparse Row format>"
      ]
     },
     "execution_count": 16,
     "metadata": {},
     "output_type": "execute_result"
    }
   ],
   "source": [
    "test = ['consolidated statements of comprehensive loss income']\n",
    "vectorizer = TfidfVectorizer(max_features=10)\n",
    "test_vect = vectorizer.fit_transform(test)\n",
    "test_vect"
   ]
  },
  {
   "cell_type": "code",
   "execution_count": 17,
   "id": "0f9eb7d4",
   "metadata": {},
   "outputs": [
    {
     "name": "stdout",
     "output_type": "stream",
     "text": [
      "Collecting semantic-text-similarity\n",
      "  Downloading semantic_text_similarity-1.0.3-py3-none-any.whl (416 kB)\n",
      "Collecting strsim\n",
      "  Downloading strsim-0.0.3-py3-none-any.whl (42 kB)\n",
      "Collecting pytorch-transformers==1.1.0\n",
      "  Downloading pytorch_transformers-1.1.0-py3-none-any.whl (158 kB)\n",
      "Requirement already satisfied: scipy in c:\\users\\biswasshubendu\\anaconda3\\lib\\site-packages (from semantic-text-similarity) (1.6.2)\n",
      "Collecting fuzzywuzzy[speedup]\n",
      "  Downloading fuzzywuzzy-0.18.0-py2.py3-none-any.whl (18 kB)\n",
      "Requirement already satisfied: torch in c:\\users\\biswasshubendu\\anaconda3\\lib\\site-packages (from semantic-text-similarity) (1.9.1)\n",
      "Collecting boto3\n",
      "  Downloading boto3-1.21.15-py3-none-any.whl (132 kB)\n",
      "Requirement already satisfied: numpy in c:\\users\\biswasshubendu\\anaconda3\\lib\\site-packages (from pytorch-transformers==1.1.0->semantic-text-similarity) (1.22.2)\n",
      "Collecting sentencepiece\n",
      "  Downloading sentencepiece-0.1.96-cp38-cp38-win_amd64.whl (1.1 MB)\n",
      "Requirement already satisfied: regex in c:\\users\\biswasshubendu\\anaconda3\\lib\\site-packages (from pytorch-transformers==1.1.0->semantic-text-similarity) (2021.4.4)\n",
      "Requirement already satisfied: requests in c:\\users\\biswasshubendu\\anaconda3\\lib\\site-packages (from pytorch-transformers==1.1.0->semantic-text-similarity) (2.25.1)\n",
      "Requirement already satisfied: tqdm in c:\\users\\biswasshubendu\\anaconda3\\lib\\site-packages (from pytorch-transformers==1.1.0->semantic-text-similarity) (4.59.0)\n",
      "Requirement already satisfied: typing-extensions in c:\\users\\biswasshubendu\\anaconda3\\lib\\site-packages (from torch->semantic-text-similarity) (3.7.4.3)\n",
      "Collecting botocore<1.25.0,>=1.24.15\n",
      "  Downloading botocore-1.24.15-py3-none-any.whl (8.6 MB)\n",
      "Collecting s3transfer<0.6.0,>=0.5.0\n",
      "  Downloading s3transfer-0.5.2-py3-none-any.whl (79 kB)\n",
      "Requirement already satisfied: jmespath<1.0.0,>=0.7.1 in c:\\users\\biswasshubendu\\anaconda3\\lib\\site-packages (from boto3->pytorch-transformers==1.1.0->semantic-text-similarity) (0.10.0)\n",
      "Requirement already satisfied: urllib3<1.27,>=1.25.4 in c:\\users\\biswasshubendu\\anaconda3\\lib\\site-packages (from botocore<1.25.0,>=1.24.15->boto3->pytorch-transformers==1.1.0->semantic-text-similarity) (1.26.4)\n",
      "Requirement already satisfied: python-dateutil<3.0.0,>=2.1 in c:\\users\\biswasshubendu\\anaconda3\\lib\\site-packages (from botocore<1.25.0,>=1.24.15->boto3->pytorch-transformers==1.1.0->semantic-text-similarity) (2.8.2)\n",
      "Requirement already satisfied: six>=1.5 in c:\\users\\biswasshubendu\\anaconda3\\lib\\site-packages (from python-dateutil<3.0.0,>=2.1->botocore<1.25.0,>=1.24.15->boto3->pytorch-transformers==1.1.0->semantic-text-similarity) (1.15.0)\n",
      "Collecting python-levenshtein>=0.12\n",
      "  Downloading python-Levenshtein-0.12.2.tar.gz (50 kB)\n",
      "Requirement already satisfied: setuptools in c:\\users\\biswasshubendu\\anaconda3\\lib\\site-packages (from python-levenshtein>=0.12->fuzzywuzzy[speedup]->semantic-text-similarity) (58.2.0)\n",
      "Requirement already satisfied: chardet<5,>=3.0.2 in c:\\users\\biswasshubendu\\anaconda3\\lib\\site-packages (from requests->pytorch-transformers==1.1.0->semantic-text-similarity) (4.0.0)\n",
      "Requirement already satisfied: idna<3,>=2.5 in c:\\users\\biswasshubendu\\anaconda3\\lib\\site-packages (from requests->pytorch-transformers==1.1.0->semantic-text-similarity) (2.10)\n",
      "Requirement already satisfied: certifi>=2017.4.17 in c:\\users\\biswasshubendu\\anaconda3\\lib\\site-packages (from requests->pytorch-transformers==1.1.0->semantic-text-similarity) (2020.12.5)\n",
      "Building wheels for collected packages: python-levenshtein\n",
      "  Building wheel for python-levenshtein (setup.py): started\n",
      "  Building wheel for python-levenshtein (setup.py): finished with status 'done'\n",
      "  Created wheel for python-levenshtein: filename=python_Levenshtein-0.12.2-cp38-cp38-win_amd64.whl size=80860 sha256=52426ceda51ecddd29b53358daf37ce202952a2996fbb8e7215a40bce0213b79\n",
      "  Stored in directory: c:\\users\\biswasshubendu\\appdata\\local\\pip\\cache\\wheels\\d7\\0c\\76\\042b46eb0df65c3ccd0338f791210c55ab79d209bcc269e2c7\n",
      "Successfully built python-levenshtein\n",
      "Installing collected packages: botocore, s3transfer, sentencepiece, python-levenshtein, fuzzywuzzy, boto3, strsim, pytorch-transformers, semantic-text-similarity\n",
      "Successfully installed boto3-1.21.15 botocore-1.24.15 fuzzywuzzy-0.18.0 python-levenshtein-0.12.2 pytorch-transformers-1.1.0 s3transfer-0.5.2 semantic-text-similarity-1.0.3 sentencepiece-0.1.96 strsim-0.0.3\n"
     ]
    }
   ],
   "source": [
    "!pip install semantic-text-similarity"
   ]
  },
  {
   "cell_type": "code",
   "execution_count": 47,
   "id": "03c1209f",
   "metadata": {},
   "outputs": [
    {
     "name": "stdout",
     "output_type": "stream",
     "text": [
      "Requirement already satisfied: Cython in c:\\users\\biswasshubendu\\anaconda3\\lib\\site-packages (0.29.23)\n"
     ]
    }
   ],
   "source": [
    "!pip install Cython"
   ]
  },
  {
   "cell_type": "code",
   "execution_count": 45,
   "id": "e6c36489",
   "metadata": {},
   "outputs": [
    {
     "ename": "NameError",
     "evalue": "name '_C' is not defined",
     "output_type": "error",
     "traceback": [
      "\u001b[1;31m---------------------------------------------------------------------------\u001b[0m",
      "\u001b[1;31mNameError\u001b[0m                                 Traceback (most recent call last)",
      "\u001b[1;32m<ipython-input-45-e9e4f2ddff3b>\u001b[0m in \u001b[0;36m<module>\u001b[1;34m\u001b[0m\n\u001b[1;32m----> 1\u001b[1;33m \u001b[1;32mfrom\u001b[0m \u001b[0msemantic_text_similarity\u001b[0m\u001b[1;33m.\u001b[0m\u001b[0mmodels\u001b[0m \u001b[1;32mimport\u001b[0m \u001b[0mWebBertSimilarity\u001b[0m\u001b[1;33m\u001b[0m\u001b[1;33m\u001b[0m\u001b[0m\n\u001b[0m\u001b[0;32m      2\u001b[0m \u001b[1;32mfrom\u001b[0m \u001b[0msemantic_text_similarity\u001b[0m\u001b[1;33m.\u001b[0m\u001b[0mmodels\u001b[0m \u001b[1;32mimport\u001b[0m \u001b[0mClinicalBertSimilarity\u001b[0m\u001b[1;33m\u001b[0m\u001b[1;33m\u001b[0m\u001b[0m\n\u001b[0;32m      3\u001b[0m \u001b[1;33m\u001b[0m\u001b[0m\n\u001b[0;32m      4\u001b[0m \u001b[0mweb_model\u001b[0m \u001b[1;33m=\u001b[0m \u001b[0mWebBertSimilarity\u001b[0m\u001b[1;33m(\u001b[0m\u001b[0mdevice\u001b[0m\u001b[1;33m=\u001b[0m\u001b[1;34m'cpu'\u001b[0m\u001b[1;33m,\u001b[0m \u001b[0mbatch_size\u001b[0m\u001b[1;33m=\u001b[0m\u001b[1;36m10\u001b[0m\u001b[1;33m)\u001b[0m \u001b[1;31m#defaults to GPU prediction\u001b[0m\u001b[1;33m\u001b[0m\u001b[1;33m\u001b[0m\u001b[0m\n\u001b[0;32m      5\u001b[0m \u001b[1;33m\u001b[0m\u001b[0m\n",
      "\u001b[1;32m~\\Anaconda3\\lib\\site-packages\\semantic_text_similarity\\models\\__init__.py\u001b[0m in \u001b[0;36m<module>\u001b[1;34m\u001b[0m\n\u001b[1;32m----> 1\u001b[1;33m \u001b[1;32mfrom\u001b[0m \u001b[1;33m.\u001b[0m\u001b[0mbert\u001b[0m\u001b[1;33m.\u001b[0m\u001b[0mweb_similarity\u001b[0m \u001b[1;32mimport\u001b[0m \u001b[0mWebBertSimilarity\u001b[0m\u001b[1;33m\u001b[0m\u001b[1;33m\u001b[0m\u001b[0m\n\u001b[0m\u001b[0;32m      2\u001b[0m \u001b[1;32mfrom\u001b[0m \u001b[1;33m.\u001b[0m\u001b[0mbert\u001b[0m\u001b[1;33m.\u001b[0m\u001b[0mclinical_similarity\u001b[0m \u001b[1;32mimport\u001b[0m \u001b[0mClinicalBertSimilarity\u001b[0m\u001b[1;33m\u001b[0m\u001b[1;33m\u001b[0m\u001b[0m\n",
      "\u001b[1;32m~\\Anaconda3\\lib\\site-packages\\semantic_text_similarity\\models\\bert\\__init__.py\u001b[0m in \u001b[0;36m<module>\u001b[1;34m\u001b[0m\n\u001b[1;32m----> 1\u001b[1;33m \u001b[1;32mfrom\u001b[0m \u001b[1;33m.\u001b[0m\u001b[0mbert_preprocessing\u001b[0m \u001b[1;32mimport\u001b[0m \u001b[0mbert_sentence_pair_preprocessing\u001b[0m\u001b[1;33m\u001b[0m\u001b[1;33m\u001b[0m\u001b[0m\n\u001b[0m\u001b[0;32m      2\u001b[0m \u001b[1;33m\u001b[0m\u001b[0m\n\u001b[0;32m      3\u001b[0m \u001b[1;32mfrom\u001b[0m \u001b[1;33m.\u001b[0m\u001b[0mclinical_similarity\u001b[0m \u001b[1;32mimport\u001b[0m \u001b[0mClinicalBertSimilarity\u001b[0m\u001b[1;33m\u001b[0m\u001b[1;33m\u001b[0m\u001b[0m\n\u001b[0;32m      4\u001b[0m \u001b[1;32mfrom\u001b[0m \u001b[1;33m.\u001b[0m\u001b[0mweb_similarity\u001b[0m \u001b[1;32mimport\u001b[0m \u001b[0mWebBertSimilarity\u001b[0m\u001b[1;33m\u001b[0m\u001b[1;33m\u001b[0m\u001b[0m\n",
      "\u001b[1;32m~\\Anaconda3\\lib\\site-packages\\semantic_text_similarity\\models\\bert\\bert_preprocessing.py\u001b[0m in \u001b[0;36m<module>\u001b[1;34m\u001b[0m\n\u001b[1;32m----> 1\u001b[1;33m \u001b[1;32mfrom\u001b[0m \u001b[0mpytorch_transformers\u001b[0m \u001b[1;32mimport\u001b[0m \u001b[0mBertTokenizer\u001b[0m\u001b[1;33m\u001b[0m\u001b[1;33m\u001b[0m\u001b[0m\n\u001b[0m\u001b[0;32m      2\u001b[0m \u001b[1;32mimport\u001b[0m \u001b[0mtorch\u001b[0m\u001b[1;33m\u001b[0m\u001b[1;33m\u001b[0m\u001b[0m\n\u001b[0;32m      3\u001b[0m \u001b[1;33m\u001b[0m\u001b[0m\n\u001b[0;32m      4\u001b[0m \u001b[1;33m\u001b[0m\u001b[0m\n\u001b[0;32m      5\u001b[0m \u001b[1;32mdef\u001b[0m \u001b[0m_truncate_seq_pair\u001b[0m\u001b[1;33m(\u001b[0m\u001b[0mtokens_a\u001b[0m\u001b[1;33m,\u001b[0m \u001b[0mtokens_b\u001b[0m\u001b[1;33m,\u001b[0m \u001b[0mmax_length\u001b[0m\u001b[1;33m:\u001b[0m \u001b[0mint\u001b[0m\u001b[1;33m)\u001b[0m\u001b[1;33m:\u001b[0m\u001b[1;33m\u001b[0m\u001b[1;33m\u001b[0m\u001b[0m\n",
      "\u001b[1;32m~\\Anaconda3\\lib\\site-packages\\pytorch_transformers\\__init__.py\u001b[0m in \u001b[0;36m<module>\u001b[1;34m\u001b[0m\n\u001b[0;32m      1\u001b[0m \u001b[0m__version__\u001b[0m \u001b[1;33m=\u001b[0m \u001b[1;34m\"1.1.0\"\u001b[0m\u001b[1;33m\u001b[0m\u001b[1;33m\u001b[0m\u001b[0m\n\u001b[1;32m----> 2\u001b[1;33m \u001b[1;32mfrom\u001b[0m \u001b[1;33m.\u001b[0m\u001b[0mtokenization_auto\u001b[0m \u001b[1;32mimport\u001b[0m \u001b[0mAutoTokenizer\u001b[0m\u001b[1;33m\u001b[0m\u001b[1;33m\u001b[0m\u001b[0m\n\u001b[0m\u001b[0;32m      3\u001b[0m \u001b[1;32mfrom\u001b[0m \u001b[1;33m.\u001b[0m\u001b[0mtokenization_bert\u001b[0m \u001b[1;32mimport\u001b[0m \u001b[0mBertTokenizer\u001b[0m\u001b[1;33m,\u001b[0m \u001b[0mBasicTokenizer\u001b[0m\u001b[1;33m,\u001b[0m \u001b[0mWordpieceTokenizer\u001b[0m\u001b[1;33m\u001b[0m\u001b[1;33m\u001b[0m\u001b[0m\n\u001b[0;32m      4\u001b[0m \u001b[1;32mfrom\u001b[0m \u001b[1;33m.\u001b[0m\u001b[0mtokenization_openai\u001b[0m \u001b[1;32mimport\u001b[0m \u001b[0mOpenAIGPTTokenizer\u001b[0m\u001b[1;33m\u001b[0m\u001b[1;33m\u001b[0m\u001b[0m\n\u001b[0;32m      5\u001b[0m \u001b[1;32mfrom\u001b[0m \u001b[1;33m.\u001b[0m\u001b[0mtokenization_transfo_xl\u001b[0m \u001b[1;32mimport\u001b[0m \u001b[1;33m(\u001b[0m\u001b[0mTransfoXLTokenizer\u001b[0m\u001b[1;33m,\u001b[0m \u001b[0mTransfoXLCorpus\u001b[0m\u001b[1;33m)\u001b[0m\u001b[1;33m\u001b[0m\u001b[1;33m\u001b[0m\u001b[0m\n",
      "\u001b[1;32m~\\Anaconda3\\lib\\site-packages\\pytorch_transformers\\tokenization_auto.py\u001b[0m in \u001b[0;36m<module>\u001b[1;34m\u001b[0m\n\u001b[0;32m     22\u001b[0m \u001b[1;32mfrom\u001b[0m \u001b[1;33m.\u001b[0m\u001b[0mtokenization_openai\u001b[0m \u001b[1;32mimport\u001b[0m \u001b[0mOpenAIGPTTokenizer\u001b[0m\u001b[1;33m\u001b[0m\u001b[1;33m\u001b[0m\u001b[0m\n\u001b[0;32m     23\u001b[0m \u001b[1;32mfrom\u001b[0m \u001b[1;33m.\u001b[0m\u001b[0mtokenization_gpt2\u001b[0m \u001b[1;32mimport\u001b[0m \u001b[0mGPT2Tokenizer\u001b[0m\u001b[1;33m\u001b[0m\u001b[1;33m\u001b[0m\u001b[0m\n\u001b[1;32m---> 24\u001b[1;33m \u001b[1;32mfrom\u001b[0m \u001b[1;33m.\u001b[0m\u001b[0mtokenization_transfo_xl\u001b[0m \u001b[1;32mimport\u001b[0m \u001b[0mTransfoXLTokenizer\u001b[0m\u001b[1;33m\u001b[0m\u001b[1;33m\u001b[0m\u001b[0m\n\u001b[0m\u001b[0;32m     25\u001b[0m \u001b[1;32mfrom\u001b[0m \u001b[1;33m.\u001b[0m\u001b[0mtokenization_xlnet\u001b[0m \u001b[1;32mimport\u001b[0m \u001b[0mXLNetTokenizer\u001b[0m\u001b[1;33m\u001b[0m\u001b[1;33m\u001b[0m\u001b[0m\n\u001b[0;32m     26\u001b[0m \u001b[1;32mfrom\u001b[0m \u001b[1;33m.\u001b[0m\u001b[0mtokenization_xlm\u001b[0m \u001b[1;32mimport\u001b[0m \u001b[0mXLMTokenizer\u001b[0m\u001b[1;33m\u001b[0m\u001b[1;33m\u001b[0m\u001b[0m\n",
      "\u001b[1;32m~\\Anaconda3\\lib\\site-packages\\pytorch_transformers\\tokenization_transfo_xl.py\u001b[0m in \u001b[0;36m<module>\u001b[1;34m\u001b[0m\n\u001b[0;32m     27\u001b[0m \u001b[1;32mfrom\u001b[0m \u001b[0mio\u001b[0m \u001b[1;32mimport\u001b[0m \u001b[0mopen\u001b[0m\u001b[1;33m\u001b[0m\u001b[1;33m\u001b[0m\u001b[0m\n\u001b[0;32m     28\u001b[0m \u001b[1;33m\u001b[0m\u001b[0m\n\u001b[1;32m---> 29\u001b[1;33m \u001b[1;32mimport\u001b[0m \u001b[0mtorch\u001b[0m\u001b[1;33m\u001b[0m\u001b[1;33m\u001b[0m\u001b[0m\n\u001b[0m\u001b[0;32m     30\u001b[0m \u001b[1;32mimport\u001b[0m \u001b[0mnumpy\u001b[0m \u001b[1;32mas\u001b[0m \u001b[0mnp\u001b[0m\u001b[1;33m\u001b[0m\u001b[1;33m\u001b[0m\u001b[0m\n\u001b[0;32m     31\u001b[0m \u001b[1;33m\u001b[0m\u001b[0m\n",
      "\u001b[1;32m~\\Anaconda3\\lib\\site-packages\\torch\\__init__.py\u001b[0m in \u001b[0;36m<module>\u001b[1;34m\u001b[0m\n\u001b[0;32m    227\u001b[0m \u001b[1;33m\u001b[0m\u001b[0m\n\u001b[0;32m    228\u001b[0m \u001b[1;33m\u001b[0m\u001b[0m\n\u001b[1;32m--> 229\u001b[1;33m __all__ += [name for name in dir(_C)\n\u001b[0m\u001b[0;32m    230\u001b[0m             \u001b[1;32mif\u001b[0m \u001b[0mname\u001b[0m\u001b[1;33m[\u001b[0m\u001b[1;36m0\u001b[0m\u001b[1;33m]\u001b[0m \u001b[1;33m!=\u001b[0m \u001b[1;34m'_'\u001b[0m \u001b[1;32mand\u001b[0m\u001b[1;33m\u001b[0m\u001b[1;33m\u001b[0m\u001b[0m\n\u001b[0;32m    231\u001b[0m             not name.endswith('Base')]\n",
      "\u001b[1;31mNameError\u001b[0m: name '_C' is not defined"
     ]
    }
   ],
   "source": [
    "from semantic_text_similarity.models import WebBertSimilarity\n",
    "from semantic_text_similarity.models import ClinicalBertSimilarity\n",
    "\n",
    "web_model = WebBertSimilarity(device='cpu', batch_size=10) #defaults to GPU prediction\n",
    "\n",
    "# clinical_model = ClinicalBertSimilarity(device='cuda', batch_size=10) #defaults to GPU prediction\n",
    "\n",
    "web_model.predict([(\"She won an olympic gold medal\",\"The women is an olympic champion\")])"
   ]
  },
  {
   "cell_type": "code",
   "execution_count": 20,
   "id": "a7f335ed",
   "metadata": {},
   "outputs": [
    {
     "data": {
      "text/plain": [
       "0       condensed consolidated statements of operations\n",
       "1                         consolidated income statement\n",
       "2                        consolidated income statements\n",
       "3                  consolidated profit and loss account\n",
       "4        consolidated statement of comprehensive income\n",
       "5             consolidated statement of profit and loss\n",
       "6                     consolidated statements of income\n",
       "7                 consolidated statements of operations\n",
       "8               group statement of comprehensive income\n",
       "9                     statement of comprehensive income\n",
       "10    statement of financial activities for the year...\n",
       "11     statemnent of profit and loss for the year ended\n",
       "12    unaudited condensed consolidated statements of...\n",
       "dtype: object"
      ]
     },
     "execution_count": 20,
     "metadata": {},
     "output_type": "execute_result"
    }
   ],
   "source": [
    "pl"
   ]
  },
  {
   "cell_type": "code",
   "execution_count": 25,
   "id": "1b7d4e5e",
   "metadata": {},
   "outputs": [
    {
     "data": {
      "text/plain": [
       "'condensed consolidated statements of operations'"
      ]
     },
     "execution_count": 25,
     "metadata": {},
     "output_type": "execute_result"
    }
   ],
   "source": [
    "pl[0]"
   ]
  },
  {
   "cell_type": "code",
   "execution_count": 31,
   "id": "3eaafdae",
   "metadata": {},
   "outputs": [
    {
     "data": {
      "text/plain": [
       "13"
      ]
     },
     "execution_count": 31,
     "metadata": {},
     "output_type": "execute_result"
    }
   ],
   "source": [
    "pl.shape[0]"
   ]
  },
  {
   "cell_type": "code",
   "execution_count": 37,
   "id": "97df32be",
   "metadata": {},
   "outputs": [
    {
     "name": "stdout",
     "output_type": "stream",
     "text": [
      "0.4522774424948339\n",
      "0.5285954792089682\n",
      "0.2928932188134524\n",
      "0.6348516283298893\n",
      "0.26970325665977857\n",
      "0.4999999999999999\n",
      "0.18350341907227385\n",
      "0.3876275643042054\n",
      "0.4522774424948339\n",
      "0.3876275643042054\n",
      "0.8556624327025936\n",
      "0.7278344730240913\n",
      "0.33333333333333326\n"
     ]
    }
   ],
   "source": [
    "l2 = \"consolidated statements of comprehensive loss income\".split()\n",
    "for i in range(pl.shape[0]):\n",
    "    l1 = pl[i].split()\n",
    "    v1,v2= buildVector(l1, l2)\n",
    "    print(cluster.util.cosine_distance(v1,v2))"
   ]
  },
  {
   "cell_type": "code",
   "execution_count": 43,
   "id": "05583db8",
   "metadata": {},
   "outputs": [
    {
     "name": "stdout",
     "output_type": "stream",
     "text": [
      "1.0\n",
      "1.0\n",
      "0.7958758547680684\n",
      "0.4999999999999999\n",
      "0.8174258141649446\n",
      "0.7642977396044841\n",
      "0.7642977396044841\n",
      "0.7958758547680684\n",
      "0.7958758547680684\n",
      "0.6348516283298893\n",
      "0.4522774424948339\n",
      "0.4999999999999999\n",
      "0.8174258141649446\n",
      "0.7958758547680684\n",
      "0.8333333333333333\n",
      "0.8174258141649446\n"
     ]
    }
   ],
   "source": [
    "l2 = \"consolidated statements of comprehensive loss income\".split()\n",
    "for i in range(bs.shape[0]):\n",
    "    l1 = bs[i].split()\n",
    "    v1,v2= buildVector(l1, l2)\n",
    "    print(cluster.util.cosine_distance(v1,v2))"
   ]
  },
  {
   "cell_type": "code",
   "execution_count": 29,
   "id": "e6d99982",
   "metadata": {},
   "outputs": [
    {
     "name": "stdout",
     "output_type": "stream",
     "text": [
      "0.18350341907227385\n"
     ]
    }
   ],
   "source": [
    "\n",
    "\n",
    "\n",
    "l1 = pl[6].split()\n",
    "\n",
    "\n",
    "\n",
    "v1,v2= buildVector(l1, l2)\n",
    "print(cluster.util.cosine_distance(v1,v2))"
   ]
  },
  {
   "cell_type": "code",
   "execution_count": 15,
   "id": "4cedeb28",
   "metadata": {},
   "outputs": [
    {
     "ename": "ValueError",
     "evalue": "Incompatible dimension for X and Y matrices: X.shape[1] == 21 while Y.shape[1] == 6",
     "output_type": "error",
     "traceback": [
      "\u001b[1;31m---------------------------------------------------------------------------\u001b[0m",
      "\u001b[1;31mValueError\u001b[0m                                Traceback (most recent call last)",
      "\u001b[1;32m<ipython-input-15-66fd027fc781>\u001b[0m in \u001b[0;36m<module>\u001b[1;34m\u001b[0m\n\u001b[1;32m----> 1\u001b[1;33m \u001b[0mcosine_similarity\u001b[0m\u001b[1;33m(\u001b[0m\u001b[0mpl_vect\u001b[0m\u001b[1;33m,\u001b[0m\u001b[0mtest_vect\u001b[0m\u001b[1;33m)\u001b[0m\u001b[1;33m\u001b[0m\u001b[1;33m\u001b[0m\u001b[0m\n\u001b[0m",
      "\u001b[1;32m~\\Anaconda3\\lib\\site-packages\\sklearn\\metrics\\pairwise.py\u001b[0m in \u001b[0;36mcosine_similarity\u001b[1;34m(X, Y, dense_output)\u001b[0m\n\u001b[0;32m   1178\u001b[0m     \u001b[1;31m# to avoid recursive import\u001b[0m\u001b[1;33m\u001b[0m\u001b[1;33m\u001b[0m\u001b[1;33m\u001b[0m\u001b[0m\n\u001b[0;32m   1179\u001b[0m \u001b[1;33m\u001b[0m\u001b[0m\n\u001b[1;32m-> 1180\u001b[1;33m     \u001b[0mX\u001b[0m\u001b[1;33m,\u001b[0m \u001b[0mY\u001b[0m \u001b[1;33m=\u001b[0m \u001b[0mcheck_pairwise_arrays\u001b[0m\u001b[1;33m(\u001b[0m\u001b[0mX\u001b[0m\u001b[1;33m,\u001b[0m \u001b[0mY\u001b[0m\u001b[1;33m)\u001b[0m\u001b[1;33m\u001b[0m\u001b[1;33m\u001b[0m\u001b[0m\n\u001b[0m\u001b[0;32m   1181\u001b[0m \u001b[1;33m\u001b[0m\u001b[0m\n\u001b[0;32m   1182\u001b[0m     \u001b[0mX_normalized\u001b[0m \u001b[1;33m=\u001b[0m \u001b[0mnormalize\u001b[0m\u001b[1;33m(\u001b[0m\u001b[0mX\u001b[0m\u001b[1;33m,\u001b[0m \u001b[0mcopy\u001b[0m\u001b[1;33m=\u001b[0m\u001b[1;32mTrue\u001b[0m\u001b[1;33m)\u001b[0m\u001b[1;33m\u001b[0m\u001b[1;33m\u001b[0m\u001b[0m\n",
      "\u001b[1;32m~\\Anaconda3\\lib\\site-packages\\sklearn\\utils\\validation.py\u001b[0m in \u001b[0;36minner_f\u001b[1;34m(*args, **kwargs)\u001b[0m\n\u001b[0;32m     61\u001b[0m             \u001b[0mextra_args\u001b[0m \u001b[1;33m=\u001b[0m \u001b[0mlen\u001b[0m\u001b[1;33m(\u001b[0m\u001b[0margs\u001b[0m\u001b[1;33m)\u001b[0m \u001b[1;33m-\u001b[0m \u001b[0mlen\u001b[0m\u001b[1;33m(\u001b[0m\u001b[0mall_args\u001b[0m\u001b[1;33m)\u001b[0m\u001b[1;33m\u001b[0m\u001b[1;33m\u001b[0m\u001b[0m\n\u001b[0;32m     62\u001b[0m             \u001b[1;32mif\u001b[0m \u001b[0mextra_args\u001b[0m \u001b[1;33m<=\u001b[0m \u001b[1;36m0\u001b[0m\u001b[1;33m:\u001b[0m\u001b[1;33m\u001b[0m\u001b[1;33m\u001b[0m\u001b[0m\n\u001b[1;32m---> 63\u001b[1;33m                 \u001b[1;32mreturn\u001b[0m \u001b[0mf\u001b[0m\u001b[1;33m(\u001b[0m\u001b[1;33m*\u001b[0m\u001b[0margs\u001b[0m\u001b[1;33m,\u001b[0m \u001b[1;33m**\u001b[0m\u001b[0mkwargs\u001b[0m\u001b[1;33m)\u001b[0m\u001b[1;33m\u001b[0m\u001b[1;33m\u001b[0m\u001b[0m\n\u001b[0m\u001b[0;32m     64\u001b[0m \u001b[1;33m\u001b[0m\u001b[0m\n\u001b[0;32m     65\u001b[0m             \u001b[1;31m# extra_args > 0\u001b[0m\u001b[1;33m\u001b[0m\u001b[1;33m\u001b[0m\u001b[1;33m\u001b[0m\u001b[0m\n",
      "\u001b[1;32m~\\Anaconda3\\lib\\site-packages\\sklearn\\metrics\\pairwise.py\u001b[0m in \u001b[0;36mcheck_pairwise_arrays\u001b[1;34m(X, Y, precomputed, dtype, accept_sparse, force_all_finite, copy)\u001b[0m\n\u001b[0;32m    158\u001b[0m                              (X.shape[0], X.shape[1], Y.shape[0]))\n\u001b[0;32m    159\u001b[0m     \u001b[1;32melif\u001b[0m \u001b[0mX\u001b[0m\u001b[1;33m.\u001b[0m\u001b[0mshape\u001b[0m\u001b[1;33m[\u001b[0m\u001b[1;36m1\u001b[0m\u001b[1;33m]\u001b[0m \u001b[1;33m!=\u001b[0m \u001b[0mY\u001b[0m\u001b[1;33m.\u001b[0m\u001b[0mshape\u001b[0m\u001b[1;33m[\u001b[0m\u001b[1;36m1\u001b[0m\u001b[1;33m]\u001b[0m\u001b[1;33m:\u001b[0m\u001b[1;33m\u001b[0m\u001b[1;33m\u001b[0m\u001b[0m\n\u001b[1;32m--> 160\u001b[1;33m         raise ValueError(\"Incompatible dimension for X and Y matrices: \"\n\u001b[0m\u001b[0;32m    161\u001b[0m                          \"X.shape[1] == %d while Y.shape[1] == %d\" % (\n\u001b[0;32m    162\u001b[0m                              X.shape[1], Y.shape[1]))\n",
      "\u001b[1;31mValueError\u001b[0m: Incompatible dimension for X and Y matrices: X.shape[1] == 21 while Y.shape[1] == 6"
     ]
    }
   ],
   "source": [
    "cosine_similarity(pl_vect,test_vect)"
   ]
  },
  {
   "cell_type": "markdown",
   "id": "6be2275b",
   "metadata": {},
   "source": [
    "# SPACY"
   ]
  },
  {
   "cell_type": "code",
   "execution_count": 13,
   "id": "ae110ebc",
   "metadata": {},
   "outputs": [],
   "source": [
    "# !python -m spacy download en_core_web_lg "
   ]
  },
  {
   "cell_type": "code",
   "execution_count": 222,
   "id": "a563fcf3",
   "metadata": {},
   "outputs": [],
   "source": [
    "import spacy\n",
    "nlp = spacy.load(\"en_core_web_lg\")\n",
    "#nlp = spacy.load(\"en_core_web_md\")"
   ]
  },
  {
   "cell_type": "code",
   "execution_count": 243,
   "id": "a6d24b60",
   "metadata": {},
   "outputs": [
    {
     "data": {
      "text/plain": [
       "0.8117391123484518"
      ]
     },
     "execution_count": 243,
     "metadata": {},
     "output_type": "execute_result"
    }
   ],
   "source": [
    "query = \"Consolidated Statements of Partnersâ Equity\"\n",
    "for i in pl:\n",
    "    res = []\n",
    "    res.append(nlp(query).similarity(nlp(i)))\n",
    "max(res)"
   ]
  },
  {
   "cell_type": "code",
   "execution_count": 244,
   "id": "dc6eb9e8",
   "metadata": {},
   "outputs": [
    {
     "data": {
      "text/plain": [
       "0.6805887230108988"
      ]
     },
     "execution_count": 244,
     "metadata": {},
     "output_type": "execute_result"
    }
   ],
   "source": [
    "for i in bs:\n",
    "    res = []\n",
    "    res.append(nlp(query).similarity(nlp(i)))\n",
    "max(res)"
   ]
  },
  {
   "cell_type": "code",
   "execution_count": 245,
   "id": "2926a277",
   "metadata": {},
   "outputs": [
    {
     "data": {
      "text/plain": [
       "0.8431458592136478"
      ]
     },
     "execution_count": 245,
     "metadata": {},
     "output_type": "execute_result"
    }
   ],
   "source": [
    "for i in cf:\n",
    "    res = []\n",
    "    res.append(nlp(query).similarity(nlp(i)))\n",
    "max(res)"
   ]
  },
  {
   "cell_type": "code",
   "execution_count": 219,
   "id": "6f7e03ce",
   "metadata": {},
   "outputs": [],
   "source": [
    "\n",
    "\n",
    "doc1 = nlp(u'the person wear red T-shirt')\n",
    "doc2 = nlp(u'this person is walking')\n",
    "doc3 = nlp('the boy wear red T-shirt')\n"
   ]
  },
  {
   "cell_type": "code",
   "execution_count": 220,
   "id": "cdd2dbf1",
   "metadata": {},
   "outputs": [
    {
     "data": {
      "text/plain": [
       "spacy.tokens.doc.Doc"
      ]
     },
     "execution_count": 220,
     "metadata": {},
     "output_type": "execute_result"
    }
   ],
   "source": [
    "type(doc3)"
   ]
  },
  {
   "cell_type": "code",
   "execution_count": 14,
   "id": "9a3449cd",
   "metadata": {},
   "outputs": [
    {
     "name": "stdout",
     "output_type": "stream",
     "text": [
      "0.7003971105290047\n",
      "0.9671912343259517\n",
      "0.6121211244876517\n"
     ]
    }
   ],
   "source": [
    "\n",
    "\n",
    "print(doc1.similarity(doc2)) \n",
    "print(doc1.similarity(doc3))\n",
    "print(doc2.similarity(doc3)) "
   ]
  },
  {
   "cell_type": "markdown",
   "id": "7899d3a0",
   "metadata": {},
   "source": [
    "# SBERT"
   ]
  },
  {
   "cell_type": "code",
   "execution_count": 9,
   "id": "186dc582",
   "metadata": {},
   "outputs": [],
   "source": [
    "from sentence_transformers import SentenceTransformer\n",
    "\n",
    "model = SentenceTransformer('bert-base-nli-mean-tokens')"
   ]
  },
  {
   "cell_type": "code",
   "execution_count": 17,
   "id": "b5d6c873",
   "metadata": {},
   "outputs": [
    {
     "data": {
      "text/plain": [
       "0       condensed consolidated statements of operations\n",
       "1                         consolidated income statement\n",
       "2                        consolidated income statements\n",
       "3                  consolidated profit and loss account\n",
       "4        consolidated statement of comprehensive income\n",
       "5             consolidated statement of profit and loss\n",
       "6                     consolidated statements of income\n",
       "7                 consolidated statements of operations\n",
       "8               group statement of comprehensive income\n",
       "9                     statement of comprehensive income\n",
       "10    statement of financial activities for the year...\n",
       "11     statemnent of profit and loss for the year ended\n",
       "12    unaudited condensed consolidated statements of...\n",
       "dtype: object"
      ]
     },
     "execution_count": 17,
     "metadata": {},
     "output_type": "execute_result"
    }
   ],
   "source": [
    "pl"
   ]
  },
  {
   "cell_type": "code",
   "execution_count": 23,
   "id": "4a2e0d22",
   "metadata": {},
   "outputs": [],
   "source": [
    "query = [\"consolidated statements of comprehensive loss income\"]"
   ]
  },
  {
   "cell_type": "code",
   "execution_count": 41,
   "id": "52e416ce",
   "metadata": {},
   "outputs": [],
   "source": [
    "a = \"purple is the best city in the forest\"\n",
    "b = \"there is an art to getting your way and throwing bananas on to the street is not it\"  # this is very similar to 'g'\n",
    "c = \"it is not often you find soggy bananas on the street\"\n",
    "d = \"green should have smelled more tranquil but somehow it just tasted rotten\"\n",
    "e = \"joyce enjoyed eating pancakes with ketchup\"\n",
    "f = \"as the asteroid hurtled toward earth becky was upset her dentist appointment had been canceled\"\n",
    "g = \"to get your way you must not bombard the road with yellow fruit\"  # this is very similar to 'b'"
   ]
  },
  {
   "cell_type": "code",
   "execution_count": 35,
   "id": "74c57610",
   "metadata": {},
   "outputs": [
    {
     "data": {
      "text/plain": [
       "['condensed consolidated statements of operations',\n",
       " 'consolidated income statement',\n",
       " 'consolidated income statements',\n",
       " 'consolidated profit and loss account',\n",
       " 'consolidated statement of comprehensive income',\n",
       " 'consolidated statement of profit and loss',\n",
       " 'consolidated statements of income',\n",
       " 'consolidated statements of operations',\n",
       " 'group statement of comprehensive income',\n",
       " 'statement of comprehensive income',\n",
       " 'statement of financial activities for the year ended',\n",
       " 'statemnent of profit and loss for the year ended',\n",
       " 'unaudited condensed consolidated statements of loss',\n",
       " 'consolidated statements of comprehensive loss income']"
      ]
     },
     "execution_count": 35,
     "metadata": {},
     "output_type": "execute_result"
    }
   ],
   "source": [
    "nn = list(pl) + query\n",
    "nn"
   ]
  },
  {
   "cell_type": "code",
   "execution_count": 56,
   "id": "3331527c",
   "metadata": {},
   "outputs": [],
   "source": [
    "a ='condensed consolidated statements of operations'\n",
    "b = 'consolidated income statement'\n",
    "c = 'consolidated income statements'\n",
    "d ='consolidated profit and loss account'\n",
    "e = 'consolidated statement of comprehensive income'\n",
    "f = 'consolidated statement of profit and loss'\n",
    "g = 'consolidated statements of income'\n",
    "h = 'consolidated statements of operations'\n",
    "i = 'group statement of comprehensive income'\n",
    "j = 'statement of comprehensive income' \n",
    "k = 'statement of financial activities for the year ended'\n",
    "l = 'statemnent of profit and loss for the year ended'\n",
    "m = 'unaudited condensed consolidated statements of loss'\n",
    "n = 'consolidated statements of comprehensive loss income'"
   ]
  },
  {
   "cell_type": "code",
   "execution_count": 57,
   "id": "d4443021",
   "metadata": {},
   "outputs": [
    {
     "data": {
      "text/plain": [
       "['condensed consolidated statements of operations',\n",
       " 'consolidated income statement',\n",
       " 'consolidated income statements',\n",
       " 'consolidated profit and loss account',\n",
       " 'consolidated statement of comprehensive income',\n",
       " 'consolidated statement of profit and loss',\n",
       " 'consolidated statements of income',\n",
       " 'consolidated statements of operations',\n",
       " 'group statement of comprehensive income',\n",
       " 'statement of comprehensive income',\n",
       " 'statement of financial activities for the year ended',\n",
       " 'statemnent of profit and loss for the year ended',\n",
       " 'unaudited condensed consolidated statements of loss',\n",
       " 'consolidated statements of comprehensive loss income']"
      ]
     },
     "execution_count": 57,
     "metadata": {},
     "output_type": "execute_result"
    }
   ],
   "source": [
    "[a, b, c, d, e, f, g, h, i, j, k, l, m, n]"
   ]
  },
  {
   "cell_type": "code",
   "execution_count": 74,
   "id": "e6991e06",
   "metadata": {},
   "outputs": [
    {
     "data": {
      "text/plain": [
       "['condensed consolidated statements of operations',\n",
       " 'consolidated income statement',\n",
       " 'consolidated income statements',\n",
       " 'consolidated profit and loss account',\n",
       " 'consolidated statement of comprehensive income',\n",
       " 'consolidated statement of profit and loss',\n",
       " 'consolidated statements of income',\n",
       " 'consolidated statements of operations',\n",
       " 'group statement of comprehensive income',\n",
       " 'statement of comprehensive income',\n",
       " 'statement of financial activities for the year ended',\n",
       " 'statemnent of profit and loss for the year ended',\n",
       " 'unaudited condensed consolidated statements of loss',\n",
       " 'consolidated statements of comprehensive loss income']"
      ]
     },
     "execution_count": 74,
     "metadata": {},
     "output_type": "execute_result"
    }
   ],
   "source": [
    "kk = list(pl)\n",
    "kk.append('consolidated statements of comprehensive loss income')\n",
    "kk"
   ]
  },
  {
   "cell_type": "code",
   "execution_count": 75,
   "id": "b50f4c82",
   "metadata": {},
   "outputs": [],
   "source": [
    "# sentence_embeddings = model.encode([a, b, c, d, e, f, g, h, i, j, k, l, m, n])\n",
    "sentence_embeddings = model.encode(kk)\n",
    "cols = ['a',' b', 'c', 'd', 'e', 'f', 'g', 'h', 'i', 'j', 'k', 'l', 'm', 'n']"
   ]
  },
  {
   "cell_type": "code",
   "execution_count": 77,
   "id": "64ccc627",
   "metadata": {},
   "outputs": [
    {
     "data": {
      "text/plain": [
       "(14, 768)"
      ]
     },
     "execution_count": 77,
     "metadata": {},
     "output_type": "execute_result"
    }
   ],
   "source": [
    "sentence_embeddings.shape"
   ]
  },
  {
   "cell_type": "code",
   "execution_count": 166,
   "id": "8353f10f",
   "metadata": {},
   "outputs": [],
   "source": [
    "# from sklearn.metrics.pairwise import cosine_similarity\n",
    "# import numpy as np\n",
    "\n",
    "# # calculate similarities (will store in array)\n",
    "# scores = np.zeros((sentence_embeddings.shape[0], sentence_embeddings.shape[0]))\n",
    "# for i in range(sentence_embeddings.shape[0]):\n",
    "#     scores[i, :] = cosine_similarity([sentence_embeddings[i]],sentence_embeddings)[0]\n",
    "# import pandas as pd\n",
    "# pl_score = pd.DataFrame(scores, columns=cols).drop('n',1)\n",
    "# pl_score.iloc[13].max()"
   ]
  },
  {
   "cell_type": "markdown",
   "id": "5be0a585",
   "metadata": {},
   "source": [
    "# approach 9"
   ]
  },
  {
   "cell_type": "markdown",
   "id": "b5f6f337",
   "metadata": {},
   "source": [
    "# bs"
   ]
  },
  {
   "cell_type": "code",
   "execution_count": 165,
   "id": "9cce73b6",
   "metadata": {},
   "outputs": [],
   "source": [
    "bs = ['balance sheet as on' ,\n",
    "'balance sheets',\n",
    "'condensed consolidated balance sheets',\n",
    "'condensed consolidated statements of financial position',\n",
    "'consolidated and company balance sheets',\n",
    "'consolidated balance sheet',\n",
    "'consolidated balance sheets',\n",
    "'consolidated balance sheets (unaudited)',\n",
    "'consolidated condensed balance sheets',\n",
    "'consolidated statement of financial position',\n",
    "'consolidated statements of financial condition',\n",
    "'consolidated statements of financial position (unaudited)',\n",
    "'group statement of financial position',\n",
    "'statement of financial position',\n",
    "'statement of financial position as at',\n",
    "'unaudited condensed consolidated balance sheets']\n"
   ]
  },
  {
   "cell_type": "code",
   "execution_count": 92,
   "id": "99e44dd6",
   "metadata": {},
   "outputs": [
    {
     "data": {
      "text/plain": [
       "(17, 768)"
      ]
     },
     "execution_count": 92,
     "metadata": {},
     "output_type": "execute_result"
    }
   ],
   "source": [
    "sentence_embeddings = model.encode(bs)\n",
    "sentence_embeddings.shape"
   ]
  },
  {
   "cell_type": "code",
   "execution_count": 164,
   "id": "371eed9b",
   "metadata": {},
   "outputs": [],
   "source": [
    "# # calculate similarities (will store in array)\n",
    "# scores = np.zeros((sentence_embeddings.shape[0], sentence_embeddings.shape[0]))\n",
    "# for i in range(sentence_embeddings.shape[0]):\n",
    "#     scores[i, :] = cosine_similarity([sentence_embeddings[i]],sentence_embeddings)[0]\n",
    "# import pandas as pd\n",
    "# bs_score = pd.DataFrame(scores)\n",
    "# bs_score"
   ]
  },
  {
   "cell_type": "markdown",
   "id": "016e03d9",
   "metadata": {},
   "source": [
    "# final"
   ]
  },
  {
   "cell_type": "code",
   "execution_count": 12,
   "id": "2c9d8ac5",
   "metadata": {},
   "outputs": [],
   "source": [
    "from sentence_transformers import SentenceTransformer\n",
    "from sklearn.metrics.pairwise import cosine_similarity\n",
    "model = SentenceTransformer('bert-base-nli-mean-tokens')\n",
    "\n",
    "bs = ['balance sheet as on' ,\n",
    "'balance sheets',\n",
    "'condensed consolidated balance sheets',\n",
    "'condensed consolidated statements of financial position',\n",
    "'consolidated and company balance sheets',\n",
    "'consolidated balance sheet',\n",
    "'consolidated balance sheets',\n",
    "'consolidated balance sheets unaudited',\n",
    "'consolidated condensed balance sheets',\n",
    "'consolidated statement of financial position',\n",
    "'consolidated statements of financial condition',\n",
    "'consolidated statements of financial position unaudited',\n",
    "'group statement of financial position',\n",
    "'statement of financial position',\n",
    "'statement of financial position as at',\n",
    " 'unaudited condensed consolidated balance sheets',\n",
    "  'equity',\n",
    " 'liabilities', \n",
    "      'assets']\n",
    "cf = ['condensed consolidated statements of cash flows',\n",
    "'condensed consolidated statements of cash flows unaudited',\n",
    "'consolidated cash flow statement',\n",
    "'consolidated condensed statements of cash flows',\n",
    "'consolidated statement of cash flows',\n",
    "'consolidated statements of cash flows',\n",
    "'consolidated statements of cash flows unaudited',\n",
    "'consolidated statements of cash flows unaudited',\n",
    "'group statement of cash flows',\n",
    "'statement of cash flow',\n",
    "'statement of cash flows for the year ended' ,\n",
    "'statement of cash flows for the year ended',\n",
    "'statement of consolidated cash flows',\n",
    "'unaudited condensed consolidated statements of cash flows']\n",
    "\n",
    "pl = ['condensed consolidated statements of operations',\n",
    "'consolidated income statement',\n",
    "'consolidated income statements',\n",
    "'consolidated profit and loss account',\n",
    "'consolidated statement of comprehensive income',\n",
    "'consolidated statement of profit and loss',\n",
    "'consolidated statements of income',\n",
    "'consolidated statements of operations',\n",
    "'group statement of comprehensive income',\n",
    "'statement of comprehensive income',\n",
    "'statement of financial activities for the year ended',\n",
    "'statemnent of profit and loss for the year ended',\n",
    "'unaudited condensed consolidated statements of loss']"
   ]
  },
  {
   "cell_type": "code",
   "execution_count": 13,
   "id": "6dccf18e",
   "metadata": {},
   "outputs": [
    {
     "data": {
      "text/plain": [
       "array([0.7338809 , 0.84222496, 0.85196185, 0.9116573 , 0.8339212 ,\n",
       "       0.8854581 , 0.855381  , 0.7269752 , 0.7975196 , 0.7917495 ,\n",
       "       0.58489895, 0.5888721 , 0.71539974, 1.        ], dtype=float32)"
      ]
     },
     "execution_count": 13,
     "metadata": {},
     "output_type": "execute_result"
    }
   ],
   "source": [
    "query = [\"consolidated statements of comprehensive loss income\"] #pl\n",
    "final = pl + query\n",
    "sentence_embeddings = model.encode(final)\n",
    "cosine_similarity([sentence_embeddings[sentence_embeddings.shape[0]-1]],sentence_embeddings)[0]\n"
   ]
  },
  {
   "cell_type": "code",
   "execution_count": 14,
   "id": "b3ee3683",
   "metadata": {},
   "outputs": [
    {
     "data": {
      "text/plain": [
       "0.9116573"
      ]
     },
     "execution_count": 14,
     "metadata": {},
     "output_type": "execute_result"
    }
   ],
   "source": [
    "import numpy as np\n",
    "np.sort(cosine_similarity([sentence_embeddings[sentence_embeddings.shape[0]-1]],sentence_embeddings)[0])[-2]"
   ]
  },
  {
   "cell_type": "code",
   "execution_count": 15,
   "id": "a02548ec",
   "metadata": {},
   "outputs": [],
   "source": [
    "#cf 0.79458845\n",
    "#bs 0.8145328\n",
    "#pl 0.9116573"
   ]
  },
  {
   "cell_type": "markdown",
   "id": "d9437ffb",
   "metadata": {},
   "source": [
    "# Another example"
   ]
  },
  {
   "cell_type": "code",
   "execution_count": null,
   "id": "72ff26dd",
   "metadata": {},
   "outputs": [],
   "source": []
  },
  {
   "cell_type": "code",
   "execution_count": 16,
   "id": "a951cadb",
   "metadata": {},
   "outputs": [],
   "source": [
    "query = [\"Consolidated Statements of Partnersâ Equity\"] #bs"
   ]
  },
  {
   "cell_type": "code",
   "execution_count": 17,
   "id": "5b74a1c1",
   "metadata": {},
   "outputs": [],
   "source": [
    "def cosine_sim(query):\n",
    "    res = {}\n",
    "    #bs\n",
    "    final1 =[]\n",
    "    final1= bs+query\n",
    "    sentence_embeddings = model.encode(final1)\n",
    "    bs_res = np.sort(cosine_similarity([sentence_embeddings[sentence_embeddings.shape[0]-1]],\\\n",
    "                                            sentence_embeddings)[0])[-2]\n",
    "    res['bs'] = bs_res\n",
    "    \n",
    "    #cf\n",
    "    final2 =[]\n",
    "    final2= cf+query\n",
    "    sentence_embeddings = model.encode(final2)\n",
    "    cf_res = np.sort(cosine_similarity([sentence_embeddings[sentence_embeddings.shape[0]-1]],\\\n",
    "                                            sentence_embeddings)[0])[-2]\n",
    "    res['cf'] = cf_res\n",
    "    \n",
    "    #pl\n",
    "    final3 =[]\n",
    "    final3 = pl+query\n",
    "    sentence_embeddings = model.encode(final3)\n",
    "    pl_res = np.sort(cosine_similarity([sentence_embeddings[sentence_embeddings.shape[0]-1]],\\\n",
    "                                            sentence_embeddings)[0])[-2]\n",
    "    res['pl'] = pl_res\n",
    "    \n",
    "    return res\n"
   ]
  },
  {
   "cell_type": "code",
   "execution_count": 25,
   "id": "aea84f5b",
   "metadata": {},
   "outputs": [],
   "source": [
    "all_ids = {'006ccd12f32b78d3c24418e035829996_3_t_0': 'form 10-q for the quarterly period ended september 30, 2021 part i. financial information item 1. financial statements. 3m company and subsidiaries consolidated statement of income (unaudited)',\n",
    " '006ccd12f32b78d3c24418e035829996_4_t_0': 'consolidated statement of comprehensive income (unaudited)',\n",
    " '006ccd12f32b78d3c24418e035829996_5_t_0': 'consolidated balance sheet (unaudited)',\n",
    " '006ccd12f32b78d3c24418e035829996_6_t_0': 'consolidated statement of cash flows (unaudited)'}"
   ]
  },
  {
   "cell_type": "code",
   "execution_count": 44,
   "id": "5d4b90ce",
   "metadata": {},
   "outputs": [
    {
     "name": "stdout",
     "output_type": "stream",
     "text": [
      "Table 006ccd12f32b78d3c24418e035829996_3_t_0 belongs to {'bs': 0.57851493, 'cf': 0.68486667, 'pl': 0.70861816}\n",
      "Table 006ccd12f32b78d3c24418e035829996_4_t_0 belongs to {'bs': 0.8246753, 'cf': 0.779168, 'pl': 0.8374411}\n",
      "Table 006ccd12f32b78d3c24418e035829996_5_t_0 belongs to {'bs': 0.9722252, 'cf': 0.8193745, 'pl': 0.8058573}\n",
      "Table 006ccd12f32b78d3c24418e035829996_6_t_0 belongs to {'bs': 0.9049101, 'cf': 0.9780392, 'pl': 0.72537637}\n"
     ]
    }
   ],
   "source": [
    "final_ans = {}\n",
    "for i in all_ids.keys():\n",
    "    \n",
    "    ans_temp = cosine_sim([all_ids[i]])\n",
    "    Keymax = max(zip(ans_temp.values(), ans_temp.keys()))[1]\n",
    "    final_ans[i] = [all_ids[i],Keymax]\n",
    "    print(f'Table {i} belongs to {ans_temp}')"
   ]
  },
  {
   "cell_type": "code",
   "execution_count": 46,
   "id": "f63e3720",
   "metadata": {},
   "outputs": [
    {
     "data": {
      "text/plain": [
       "{'006ccd12f32b78d3c24418e035829996_3_t_0': ['form 10-q for the quarterly period ended september 30, 2021 part i. financial information item 1. financial statements. 3m company and subsidiaries consolidated statement of income (unaudited)',\n",
       "  'pl'],\n",
       " '006ccd12f32b78d3c24418e035829996_4_t_0': ['consolidated statement of comprehensive income (unaudited)',\n",
       "  'pl'],\n",
       " '006ccd12f32b78d3c24418e035829996_5_t_0': ['consolidated balance sheet (unaudited)',\n",
       "  'bs'],\n",
       " '006ccd12f32b78d3c24418e035829996_6_t_0': ['consolidated statement of cash flows (unaudited)',\n",
       "  'cf']}"
      ]
     },
     "execution_count": 46,
     "metadata": {},
     "output_type": "execute_result"
    }
   ],
   "source": [
    "final_ans"
   ]
  },
  {
   "cell_type": "code",
   "execution_count": 61,
   "id": "4971d7a5",
   "metadata": {},
   "outputs": [
    {
     "name": "stdout",
     "output_type": "stream",
     "text": [
      "form 10-q for the quarterly period ended september 30, 2021 part i. financial information item 1. financial statements. 3m company and subsidiaries consolidated statement of income (unaudited)\n",
      "consolidated statement of comprehensive income (unaudited)\n",
      "consolidated balance sheet (unaudited)\n",
      "consolidated statement of cash flows (unaudited)\n"
     ]
    }
   ],
   "source": [
    "pl_ids = {}\n",
    "cf_ids = {}\n",
    "bs_ids = {}\n",
    "for i in final_ans.keys():\n",
    "    if final_ans[i][1] == \"pl\":\n",
    "        pl_ids[i] = final_ans[i]\n",
    "        print(final_ans[i][0])\n",
    "    if final_ans[i][1] == \"cf\":\n",
    "        cf_ids[i] = final_ans[i]\n",
    "        print(final_ans[i][0])\n",
    "    if final_ans[i][1] == \"bs\":\n",
    "        bs_ids[i] = final_ans[i]\n",
    "        print(final_ans[i][0])"
   ]
  },
  {
   "cell_type": "code",
   "execution_count": 62,
   "id": "37cbe8f6",
   "metadata": {},
   "outputs": [
    {
     "data": {
      "text/plain": [
       "{'006ccd12f32b78d3c24418e035829996_6_t_0': ['consolidated statement of cash flows (unaudited)',\n",
       "  'cf']}"
      ]
     },
     "execution_count": 62,
     "metadata": {},
     "output_type": "execute_result"
    }
   ],
   "source": [
    "cf_ids"
   ]
  },
  {
   "cell_type": "code",
   "execution_count": 63,
   "id": "5447a89f",
   "metadata": {},
   "outputs": [
    {
     "data": {
      "text/plain": [
       "{'006ccd12f32b78d3c24418e035829996_5_t_0': ['consolidated balance sheet (unaudited)',\n",
       "  'bs']}"
      ]
     },
     "execution_count": 63,
     "metadata": {},
     "output_type": "execute_result"
    }
   ],
   "source": [
    "bs_ids"
   ]
  },
  {
   "cell_type": "code",
   "execution_count": 60,
   "id": "c2dfcdea",
   "metadata": {},
   "outputs": [
    {
     "data": {
      "text/plain": [
       "{'006ccd12f32b78d3c24418e035829996_3_t_0': ['form 10-q for the quarterly period ended september 30, 2021 part i. financial information item 1. financial statements. 3m company and subsidiaries consolidated statement of income (unaudited)',\n",
       "  'pl'],\n",
       " '006ccd12f32b78d3c24418e035829996_4_t_0': ['consolidated statement of comprehensive income (unaudited)',\n",
       "  'pl']}"
      ]
     },
     "execution_count": 60,
     "metadata": {},
     "output_type": "execute_result"
    }
   ],
   "source": [
    "pl_ids"
   ]
  },
  {
   "cell_type": "code",
   "execution_count": 76,
   "id": "c33c779f",
   "metadata": {},
   "outputs": [
    {
     "name": "stdout",
     "output_type": "stream",
     "text": [
      "False\n",
      "True\n"
     ]
    }
   ],
   "source": [
    "for i in pl_ids.keys():\n",
    "    print(pl_ids[i][0].find('consolidated')!=-1 and pl_ids[i][0].find('comprehensive')!=-1)"
   ]
  },
  {
   "cell_type": "code",
   "execution_count": 80,
   "id": "66a74483",
   "metadata": {},
   "outputs": [],
   "source": [
    "test = {'006ccd12f32b78d3c24418e035829996_3_t_0': ['consolidated statement of income',\n",
    "  'pl'],\n",
    " '006ccd12f32b78d3c24418e035829996_4_t_0': [' statement of comprehensive income',\n",
    "  'pl']}\n",
    "for i in test.keys():\n",
    "    if (test[i][0].find('consolidated')!=-1):\n",
    "        print(test[i])\n"
   ]
  },
  {
   "cell_type": "code",
   "execution_count": 80,
   "id": "8a454e1d",
   "metadata": {},
   "outputs": [],
   "source": [
    "def test_pl(test):\n",
    "\n",
    "    res = []\n",
    "    for i in test.keys():\n",
    "        if (test[i][0].find('consolidated')!=-1):\n",
    "            res.append(i)\n",
    "    if len(res)==1:\n",
    "            return res[0]\n",
    "    for i in test.keys():\n",
    "        #return other id which does not have comprehensive\n",
    "        if (test[i][0].find('comprehensive')==-1):\n",
    "            return i"
   ]
  },
  {
   "cell_type": "code",
   "execution_count": 81,
   "id": "c73a43ef",
   "metadata": {},
   "outputs": [
    {
     "data": {
      "text/plain": [
       "'006ccd12f32b78d3c24418e035829996_3_t_0'"
      ]
     },
     "execution_count": 81,
     "metadata": {},
     "output_type": "execute_result"
    }
   ],
   "source": [
    "test = {\n",
    "'006ccd12f32b78d3c24418e035829996_3_t_0': [' consolidated statement of income','pl'],\n",
    "'006ccd12f32b78d3c24418e035829996_4_t_0': [' consolidated comprehensive statement of  income ','pl']\n",
    "}\n",
    "test_pl(test)"
   ]
  },
  {
   "cell_type": "code",
   "execution_count": 70,
   "id": "c63f1818",
   "metadata": {},
   "outputs": [
    {
     "ename": "SyntaxError",
     "evalue": "'return' outside function (<ipython-input-70-d636fb68fdf1>, line 8)",
     "output_type": "error",
     "traceback": [
      "\u001b[1;36m  File \u001b[1;32m\"<ipython-input-70-d636fb68fdf1>\"\u001b[1;36m, line \u001b[1;32m8\u001b[0m\n\u001b[1;33m    return i\u001b[0m\n\u001b[1;37m    ^\u001b[0m\n\u001b[1;31mSyntaxError\u001b[0m\u001b[1;31m:\u001b[0m 'return' outside function\n"
     ]
    }
   ],
   "source": [
    "test = {'006ccd12f32b78d3c24418e035829996_3_t_0': [' comprehensive statement of income',\n",
    "  'pl'],\n",
    " '006ccd12f32b78d3c24418e035829996_4_t_0': [' statement of  income',\n",
    "  'pl']}\n"
   ]
  },
  {
   "cell_type": "code",
   "execution_count": null,
   "id": "d563e50e",
   "metadata": {},
   "outputs": [],
   "source": [
    "for i "
   ]
  },
  {
   "cell_type": "code",
   "execution_count": 17,
   "id": "ff669ab1",
   "metadata": {},
   "outputs": [
    {
     "name": "stdout",
     "output_type": "stream",
     "text": [
      "True\n"
     ]
    }
   ],
   "source": [
    "word = 'rog anurodh'\n",
    "print(word.find('anurodh') != -1)"
   ]
  },
  {
   "cell_type": "code",
   "execution_count": null,
   "id": "da444a5c",
   "metadata": {},
   "outputs": [],
   "source": []
  },
  {
   "cell_type": "code",
   "execution_count": null,
   "id": "ad6f2466",
   "metadata": {},
   "outputs": [],
   "source": []
  },
  {
   "cell_type": "code",
   "execution_count": null,
   "id": "5a56d171",
   "metadata": {},
   "outputs": [],
   "source": [
    "form 10-q for the quarterly period ended september 30, 2021 part i. financial information item 1. financial statements. 3m company and subsidiaries consolidated statement of income (unaudited)"
   ]
  },
  {
   "cell_type": "code",
   "execution_count": null,
   "id": "0cf81a06",
   "metadata": {},
   "outputs": [],
   "source": [
    "consolidated statement of comprehensive income (unaudited)"
   ]
  },
  {
   "cell_type": "code",
   "execution_count": null,
   "id": "b988739c",
   "metadata": {},
   "outputs": [],
   "source": []
  },
  {
   "cell_type": "code",
   "execution_count": null,
   "id": "d0c9bfa0",
   "metadata": {},
   "outputs": [],
   "source": []
  },
  {
   "cell_type": "code",
   "execution_count": null,
   "id": "129ba901",
   "metadata": {},
   "outputs": [],
   "source": []
  },
  {
   "cell_type": "code",
   "execution_count": 24,
   "id": "88015981",
   "metadata": {},
   "outputs": [
    {
     "name": "stdout",
     "output_type": "stream",
     "text": [
      "Table 006ccd12f32b78d3c24418e035829996_3_t_0 belongs to {'bs': 0.57851493, 'cf': 0.68486667, 'pl': 0.70861816}\n",
      "Table 006ccd12f32b78d3c24418e035829996_4_t_0 belongs to {'bs': 0.8246753, 'cf': 0.779168, 'pl': 0.8374411}\n",
      "Table 006ccd12f32b78d3c24418e035829996_5_t_0 belongs to {'bs': 0.9722252, 'cf': 0.8193745, 'pl': 0.8058573}\n",
      "Table 006ccd12f32b78d3c24418e035829996_6_t_0 belongs to {'bs': 0.9049101, 'cf': 0.9780392, 'pl': 0.72537637}\n"
     ]
    }
   ],
   "source": [
    "for i in all_ids.keys():\n",
    "    print(f'Table {i} belongs to {cosine_sim([all_ids[i]])}')"
   ]
  },
  {
   "cell_type": "code",
   "execution_count": 22,
   "id": "7d726495",
   "metadata": {},
   "outputs": [
    {
     "name": "stdout",
     "output_type": "stream",
     "text": [
      "CONSOLIDATED BALANCE SHEETS\n",
      "CONSOLIDATED STATEMENTS OF INCOME\n",
      "CONSOLIDATED STATEMENTS OF COMPREHENSIVE INCOME\n",
      "CONSOLIDATED STATEMENTS OF STOCKHOLDERS' EQUITY\n",
      "CONSOLIDATED STATEMENTS OF CASH FLOWS\n",
      "CONSOLIDATED STATEMENTS OF CASH FLOWS\n"
     ]
    }
   ],
   "source": [
    "for i in all_ids.keys():\n",
    "    print(all_ids[i])"
   ]
  },
  {
   "cell_type": "code",
   "execution_count": null,
   "id": "b6680844",
   "metadata": {},
   "outputs": [],
   "source": []
  },
  {
   "cell_type": "code",
   "execution_count": null,
   "id": "fda24c42",
   "metadata": {},
   "outputs": [],
   "source": []
  },
  {
   "cell_type": "code",
   "execution_count": 14,
   "id": "2dd3cae7",
   "metadata": {},
   "outputs": [
    {
     "data": {
      "text/plain": [
       "{'bs': 0.8955419, 'cf': 0.8671005, 'pl': 1.0}"
      ]
     },
     "execution_count": 14,
     "metadata": {},
     "output_type": "execute_result"
    }
   ],
   "source": [
    "cosine_sim([\"CONSOLIDATED STATEMENTS OF INCOME\"])"
   ]
  },
  {
   "cell_type": "code",
   "execution_count": null,
   "id": "13601afd",
   "metadata": {},
   "outputs": [],
   "source": []
  },
  {
   "cell_type": "code",
   "execution_count": null,
   "id": "7d33cd9d",
   "metadata": {},
   "outputs": [],
   "source": []
  },
  {
   "cell_type": "code",
   "execution_count": null,
   "id": "d33e3cf1",
   "metadata": {},
   "outputs": [],
   "source": []
  },
  {
   "cell_type": "code",
   "execution_count": null,
   "id": "f2833e33",
   "metadata": {},
   "outputs": [],
   "source": []
  },
  {
   "cell_type": "code",
   "execution_count": null,
   "id": "a4a4c073",
   "metadata": {},
   "outputs": [],
   "source": []
  },
  {
   "cell_type": "code",
   "execution_count": 311,
   "id": "efc0428c",
   "metadata": {},
   "outputs": [
    {
     "name": "stdout",
     "output_type": "stream",
     "text": [
      "0.8310541\n",
      "==================================================\n",
      "0.7955934\n",
      "==================================================\n",
      "0.7528471\n",
      "==================================================\n"
     ]
    }
   ],
   "source": [
    "for i in [bs,pl,cf]:\n",
    "    final=[]\n",
    "    final = i + query\n",
    "    sentence_embeddings = model.encode(final)\n",
    "    print(np.sort(cosine_similarity([sentence_embeddings[sentence_embeddings.shape[0]-1]],\\\n",
    "                                            sentence_embeddings)[0])[-2])\n",
    "    print(\"=\"*50)"
   ]
  },
  {
   "cell_type": "code",
   "execution_count": 303,
   "id": "77ec8f75",
   "metadata": {},
   "outputs": [
    {
     "data": {
      "text/plain": [
       "['condensed consolidated statements of cash flows',\n",
       " 'condensed consolidated statements of cash flows unaudited',\n",
       " 'consolidated cash flow statement',\n",
       " 'consolidated condensed statements of cash flows',\n",
       " 'consolidated statement of cash flows',\n",
       " 'consolidated statements of cash flows',\n",
       " 'consolidated statements of cash flows unaudited',\n",
       " 'consolidated statements of cash flows unaudited',\n",
       " 'group statement of cash flows',\n",
       " 'statement of cash flow',\n",
       " 'statement of cash flows for the year ended',\n",
       " 'statement of cash flows for the year ended',\n",
       " 'statement of consolidated cash flows',\n",
       " 'unaudited condensed consolidated statements of cash flows',\n",
       " 'Consolidated Statements of Partnersâ\\x80\\x99 Equity']"
      ]
     },
     "execution_count": 303,
     "metadata": {},
     "output_type": "execute_result"
    }
   ],
   "source": [
    "final"
   ]
  },
  {
   "cell_type": "code",
   "execution_count": 289,
   "id": "d9a1fa02",
   "metadata": {},
   "outputs": [
    {
     "ename": "TypeError",
     "evalue": "can only concatenate str (not \"list\") to str",
     "output_type": "error",
     "traceback": [
      "\u001b[1;31m---------------------------------------------------------------------------\u001b[0m",
      "\u001b[1;31mTypeError\u001b[0m                                 Traceback (most recent call last)",
      "\u001b[1;32m<ipython-input-289-5d7b954ed2ff>\u001b[0m in \u001b[0;36m<module>\u001b[1;34m\u001b[0m\n\u001b[0;32m      4\u001b[0m \u001b[1;33m\u001b[0m\u001b[0m\n\u001b[0;32m      5\u001b[0m \u001b[1;32mfor\u001b[0m \u001b[0mbs\u001b[0m\u001b[1;33m,\u001b[0m \u001b[0mcf\u001b[0m\u001b[1;33m,\u001b[0m \u001b[0mpl\u001b[0m \u001b[1;32min\u001b[0m \u001b[0mzip\u001b[0m\u001b[1;33m(\u001b[0m\u001b[0mfirst\u001b[0m\u001b[1;33m,\u001b[0m \u001b[0msecond\u001b[0m\u001b[1;33m,\u001b[0m \u001b[0mthird\u001b[0m\u001b[1;33m)\u001b[0m\u001b[1;33m:\u001b[0m\u001b[1;33m\u001b[0m\u001b[1;33m\u001b[0m\u001b[0m\n\u001b[1;32m----> 6\u001b[1;33m     \u001b[0mfinal\u001b[0m \u001b[1;33m=\u001b[0m \u001b[0mbs\u001b[0m \u001b[1;33m+\u001b[0m \u001b[0mquery\u001b[0m\u001b[1;33m\u001b[0m\u001b[1;33m\u001b[0m\u001b[0m\n\u001b[0m\u001b[0;32m      7\u001b[0m     \u001b[0mprint\u001b[0m\u001b[1;33m(\u001b[0m\u001b[0mfinal\u001b[0m\u001b[1;33m)\u001b[0m\u001b[1;33m\u001b[0m\u001b[1;33m\u001b[0m\u001b[0m\n",
      "\u001b[1;31mTypeError\u001b[0m: can only concatenate str (not \"list\") to str"
     ]
    }
   ],
   "source": [
    "first = [\"bs\", bs]\n",
    "second = [\"cf\", cf]\n",
    "third = [\"pl\", pl]\n",
    "\n",
    "for bs, cf, pl in zip(first, second, third):\n",
    "    final = bs + query\n",
    "    print(final)"
   ]
  },
  {
   "cell_type": "code",
   "execution_count": null,
   "id": "12af4804",
   "metadata": {},
   "outputs": [],
   "source": []
  }
 ],
 "metadata": {
  "kernelspec": {
   "display_name": "Python 3",
   "language": "python",
   "name": "python3"
  },
  "language_info": {
   "codemirror_mode": {
    "name": "ipython",
    "version": 3
   },
   "file_extension": ".py",
   "mimetype": "text/x-python",
   "name": "python",
   "nbconvert_exporter": "python",
   "pygments_lexer": "ipython3",
   "version": "3.8.8"
  }
 },
 "nbformat": 4,
 "nbformat_minor": 5
}
