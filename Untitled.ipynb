{
 "cells": [
  {
   "cell_type": "code",
   "execution_count": 1,
   "id": "d4b16caa",
   "metadata": {},
   "outputs": [],
   "source": [
    "import bs4 as bs\n",
    "import requests\n",
    "import pandas as pd\n",
    "import re\n",
    "\n",
    "company = 'Facebook Inc'\n",
    "filing = '10-Q'\n",
    "year = 2020\n",
    "quarter = 'QTR3'\n",
    "#get name of all filings \n",
    "download = requests.get(f'https://www.sec.gov/Archives/edgar/full-index/{year}/{quarter}/master.idx').content\n",
    "download = download.decode(\"utf-8\").split('\\n')"
   ]
  },
  {
   "cell_type": "code",
   "execution_count": 2,
   "id": "c1b46457",
   "metadata": {},
   "outputs": [
    {
     "data": {
      "text/plain": [
       "['<!DOCTYPE html PUBLIC \"-//W3C//DTD XHTML 1.0 Transitional//EN\" \"http://www.w3.org/TR/xhtml1/DTD/xhtml1-transitional.dtd\">',\n",
       " '<html xmlns=\"http://www.w3.org/1999/xhtml\">',\n",
       " '<head>',\n",
       " '<meta http-equiv=\"Content-Type\" content=\"text/html; charset=UTF-8\" />',\n",
       " '<title>SEC.gov | Request Rate Threshold Exceeded</title>',\n",
       " '<style>',\n",
       " 'html {height: 100%}',\n",
       " 'body {height: 100%; margin:0; padding:0;}',\n",
       " '#header {background-color:#003968; color:#fff; padding:15px 20px 10px 20px;font-family:Arial, Helvetica, sans-serif; font-size:20px; border-bottom:solid 5px #000;}',\n",
       " '#footer {background-color:#003968; color:#fff; padding:15px 20px;font-family:Arial, Helvetica, sans-serif; font-size:20px;}',\n",
       " '#content {max-width:650px;margin:60px auto; padding:0 20px 100px 20px; background-image:url(seal_bw.png);background-repeat:no-repeat;background-position:50% 100%;}',\n",
       " 'h1 {font-family:Georgia, Times, serif; font-size:20px;}',\n",
       " 'h2 {text-align:center; font-family:Georgia, Times, serif; font-size:20px; width:100%; border-bottom:solid #999 1px;padding-bottom:10px; margin-bottom:20px;}',\n",
       " 'h3 {font-family:Georgia, Times, serif; font-size:16px; margin:25px 0 0 0;}',\n",
       " 'p {font-family:Verdana, Geneva, sans-serif;font-size:14px;line-height:1.3;}',\n",
       " '.grey_box {background-color:#eee; padding:5px 40px 20px 40px;margin-top:75px;}',\n",
       " '.grey_box p {font-size:12px;line-height:1.5}',\n",
       " '.note {padding: 0 40px; font-style: italic;}',\n",
       " '</style>',\n",
       " '</head>',\n",
       " '',\n",
       " '<body>',\n",
       " '<div id=\"header\">U.S. Securities and Exchange Commission</div>',\n",
       " '<div id=\"content\">',\n",
       " '<h1>Your Request Originates from an Undeclared Automated Tool</h1>',\n",
       " '<p>To allow for equitable access to all users, SEC reserves the right to limit requests originating from undeclared automated tools. Your request has been identified as part of a network of automated tools outside of the acceptable policy and will be managed until action is taken to declare your traffic.</p>',\n",
       " '',\n",
       " '<p>Please declare your traffic by updating your user agent to include company specific information.</p>',\n",
       " '',\n",
       " '',\n",
       " '<p>For best practices on efficiently downloading information from SEC.gov, including the latest EDGAR filings, visit <a href=\"https://www.sec.gov/developer\" target=\"_blank\">sec.gov/developer</a>. You can also <a href=\"https://public.govdelivery.com/accounts/USSEC/subscriber/new?topic_id=USSEC_260\" target=\"_blank\">sign up for email updates</a> on the SEC open data program, including best practices that make it more efficient to download data, and SEC.gov enhancements that may impact scripted downloading processes. For more information, contact <a href=\"mailto:opendata@sec.gov\">opendata@sec.gov</a>.</p>',\n",
       " '',\n",
       " '<p>For more information, please see the SEC’s <a href=\"#internet\">Web Site Privacy and Security Policy</a>. Thank you for your interest in the U.S. Securities and Exchange Commission.',\n",
       " '<p>Reference ID: 0.cfebdfad.1646024264.b915636</p>',\n",
       " '<div class=\"grey_box\">',\n",
       " '<h2>More Information</h2>',\n",
       " '<h3><a name=\"internet\">Internet Security Policy</a></h3>',\n",
       " '',\n",
       " '<p>By using this site, you are agreeing to security monitoring and auditing. For security purposes, and to ensure that the public service remains available to users, this government computer system employs programs to monitor network traffic to identify unauthorized attempts to upload or change information or to otherwise cause damage, including attempts to deny service to users.</p>',\n",
       " '',\n",
       " '<p>Unauthorized attempts to upload information and/or change information on any portion of this site are strictly prohibited and are subject to prosecution under the Computer Fraud and Abuse Act of 1986 and the National Information Infrastructure Protection Act of 1996 (see Title 18 U.S.C. §§ 1001 and 1030).</p>',\n",
       " '',\n",
       " '<p>To ensure our website performs well for all users, the SEC monitors the frequency of requests for SEC.gov content to ensure automated searches do not impact the ability of others to access SEC.gov content. We reserve the right to block IP addresses that submit excessive requests.  Current guidelines limit users to a total of no more than 10 requests per second, regardless of the number of machines used to submit requests. </p>',\n",
       " '',\n",
       " '<p>If a user or application submits more than 10 requests per second, further requests from the IP address(es) may be limited for a brief period. Once the rate of requests has dropped below the threshold for 10 minutes, the user may resume accessing content on SEC.gov. This SEC practice is designed to limit excessive automated searches on SEC.gov and is not intended or expected to impact individuals browsing the SEC.gov website. </p>',\n",
       " '',\n",
       " '<p>Note that this policy may change as the SEC manages SEC.gov to ensure that the website performs efficiently and remains available to all users.</p>',\n",
       " '</div>',\n",
       " '<br>',\n",
       " '<p class=\"note\"><b>Note:</b> We do not offer technical support for developing or debugging scripted downloading processes.</P>',\n",
       " '</div>',\n",
       " '</body>',\n",
       " '</html>',\n",
       " '']"
      ]
     },
     "execution_count": 2,
     "metadata": {},
     "output_type": "execute_result"
    }
   ],
   "source": [
    "download"
   ]
  },
  {
   "cell_type": "code",
   "execution_count": 9,
   "id": "81bed9a5",
   "metadata": {},
   "outputs": [],
   "source": [
    "#build the first part of the url\n",
    "for item in download:\n",
    "#     print(item)\n",
    "    #company name and report type\n",
    "    if (company in item) and (filing in item): \n",
    "        #print(item)\n",
    "        company = item\n",
    "        company = company.strip()\n",
    "        splitted_company = company.split('|')\n",
    "        url = splitted_company[-1]\n",
    "        print(url)\n",
    "\n",
    "# print(url) #edgar/data/1326801/0001326801-20-000076.txt"
   ]
  },
  {
   "cell_type": "code",
   "execution_count": 13,
   "id": "2cd07c0b",
   "metadata": {},
   "outputs": [],
   "source": [
    "\n",
    "\n",
    "# url2 = url.split('-') \n",
    "# url2 = url2[0] + url2[1] + url2[2]\n",
    "# url2 = url2.split('.txt')[0]\n",
    "# print(url2) #edgar/data/1326801/000132680120000076\n",
    "\n",
    "# to_get_html_site = 'https://www.sec.gov/Archives/' + url\n",
    "\n",
    "to_get_html_site = \"https://www.sec.gov/Archives/edgar/data/1326801/0001326801-20-000076.txt\"\n",
    "\n",
    "data = requests.get(to_get_html_site).content\n",
    "data = data.decode(\"utf-8\") \n",
    "# data = data.split('FILENAME>')\n",
    "# #data[1]\n",
    "# data = data[1].split('\\n')[0]\n",
    "\n",
    "# url_to_use = 'https://www.sec.gov/Archives/'+ url2 + '/'+data\n",
    "# print(url_to_use)"
   ]
  },
  {
   "cell_type": "code",
   "execution_count": 14,
   "id": "68f87757",
   "metadata": {},
   "outputs": [
    {
     "data": {
      "text/plain": [
       "'<!DOCTYPE html PUBLIC \"-//W3C//DTD XHTML 1.0 Transitional//EN\" \"http://www.w3.org/TR/xhtml1/DTD/xhtml1-transitional.dtd\">\\n<html xmlns=\"http://www.w3.org/1999/xhtml\">\\n<head>\\n<meta http-equiv=\"Content-Type\" content=\"text/html; charset=UTF-8\" />\\n<title>SEC.gov | Request Rate Threshold Exceeded</title>\\n<style>\\nhtml {height: 100%}\\nbody {height: 100%; margin:0; padding:0;}\\n#header {background-color:#003968; color:#fff; padding:15px 20px 10px 20px;font-family:Arial, Helvetica, sans-serif; font-size:20px; border-bottom:solid 5px #000;}\\n#footer {background-color:#003968; color:#fff; padding:15px 20px;font-family:Arial, Helvetica, sans-serif; font-size:20px;}\\n#content {max-width:650px;margin:60px auto; padding:0 20px 100px 20px; background-image:url(seal_bw.png);background-repeat:no-repeat;background-position:50% 100%;}\\nh1 {font-family:Georgia, Times, serif; font-size:20px;}\\nh2 {text-align:center; font-family:Georgia, Times, serif; font-size:20px; width:100%; border-bottom:solid #999 1px;padding-bottom:10px; margin-bottom:20px;}\\nh3 {font-family:Georgia, Times, serif; font-size:16px; margin:25px 0 0 0;}\\np {font-family:Verdana, Geneva, sans-serif;font-size:14px;line-height:1.3;}\\n.grey_box {background-color:#eee; padding:5px 40px 20px 40px;margin-top:75px;}\\n.grey_box p {font-size:12px;line-height:1.5}\\n.note {padding: 0 40px; font-style: italic;}\\n</style>\\n</head>\\n\\n<body>\\n<div id=\"header\">U.S. Securities and Exchange Commission</div>\\n<div id=\"content\">\\n<h1>Your Request Originates from an Undeclared Automated Tool</h1>\\n<p>To allow for equitable access to all users, SEC reserves the right to limit requests originating from undeclared automated tools. Your request has been identified as part of a network of automated tools outside of the acceptable policy and will be managed until action is taken to declare your traffic.</p>\\n\\n<p>Please declare your traffic by updating your user agent to include company specific information.</p>\\n\\n\\n<p>For best practices on efficiently downloading information from SEC.gov, including the latest EDGAR filings, visit <a href=\"https://www.sec.gov/developer\" target=\"_blank\">sec.gov/developer</a>. You can also <a href=\"https://public.govdelivery.com/accounts/USSEC/subscriber/new?topic_id=USSEC_260\" target=\"_blank\">sign up for email updates</a> on the SEC open data program, including best practices that make it more efficient to download data, and SEC.gov enhancements that may impact scripted downloading processes. For more information, contact <a href=\"mailto:opendata@sec.gov\">opendata@sec.gov</a>.</p>\\n\\n<p>For more information, please see the SEC’s <a href=\"#internet\">Web Site Privacy and Security Policy</a>. Thank you for your interest in the U.S. Securities and Exchange Commission.\\n<p>Reference ID: 0.cfebdfad.1646026379.baabcbe</p>\\n<div class=\"grey_box\">\\n<h2>More Information</h2>\\n<h3><a name=\"internet\">Internet Security Policy</a></h3>\\n\\n<p>By using this site, you are agreeing to security monitoring and auditing. For security purposes, and to ensure that the public service remains available to users, this government computer system employs programs to monitor network traffic to identify unauthorized attempts to upload or change information or to otherwise cause damage, including attempts to deny service to users.</p>\\n\\n<p>Unauthorized attempts to upload information and/or change information on any portion of this site are strictly prohibited and are subject to prosecution under the Computer Fraud and Abuse Act of 1986 and the National Information Infrastructure Protection Act of 1996 (see Title 18 U.S.C. §§ 1001 and 1030).</p>\\n\\n<p>To ensure our website performs well for all users, the SEC monitors the frequency of requests for SEC.gov content to ensure automated searches do not impact the ability of others to access SEC.gov content. We reserve the right to block IP addresses that submit excessive requests.  Current guidelines limit users to a total of no more than 10 requests per second, regardless of the number of machines used to submit requests. </p>\\n\\n<p>If a user or application submits more than 10 requests per second, further requests from the IP address(es) may be limited for a brief period. Once the rate of requests has dropped below the threshold for 10 minutes, the user may resume accessing content on SEC.gov. This SEC practice is designed to limit excessive automated searches on SEC.gov and is not intended or expected to impact individuals browsing the SEC.gov website. </p>\\n\\n<p>Note that this policy may change as the SEC manages SEC.gov to ensure that the website performs efficiently and remains available to all users.</p>\\n</div>\\n<br>\\n<p class=\"note\"><b>Note:</b> We do not offer technical support for developing or debugging scripted downloading processes.</P>\\n</div>\\n</body>\\n</html>\\n'"
      ]
     },
     "execution_count": 14,
     "metadata": {},
     "output_type": "execute_result"
    }
   ],
   "source": [
    "data"
   ]
  },
  {
   "cell_type": "code",
   "execution_count": 15,
   "id": "78c968c9",
   "metadata": {},
   "outputs": [
    {
     "data": {
      "text/plain": [
       "<!DOCTYPE html PUBLIC \"-//W3C//DTD XHTML 1.0 Transitional//EN\" \"http://www.w3.org/TR/xhtml1/DTD/xhtml1-transitional.dtd\">\n",
       "<html xmlns=\"http://www.w3.org/1999/xhtml\">\n",
       "<head>\n",
       "<meta content=\"text/html; charset=utf-8\" http-equiv=\"Content-Type\"/>\n",
       "<title>SEC.gov | Request Rate Threshold Exceeded</title>\n",
       "<style>\n",
       "html {height: 100%}\n",
       "body {height: 100%; margin:0; padding:0;}\n",
       "#header {background-color:#003968; color:#fff; padding:15px 20px 10px 20px;font-family:Arial, Helvetica, sans-serif; font-size:20px; border-bottom:solid 5px #000;}\n",
       "#footer {background-color:#003968; color:#fff; padding:15px 20px;font-family:Arial, Helvetica, sans-serif; font-size:20px;}\n",
       "#content {max-width:650px;margin:60px auto; padding:0 20px 100px 20px; background-image:url(seal_bw.png);background-repeat:no-repeat;background-position:50% 100%;}\n",
       "h1 {font-family:Georgia, Times, serif; font-size:20px;}\n",
       "h2 {text-align:center; font-family:Georgia, Times, serif; font-size:20px; width:100%; border-bottom:solid #999 1px;padding-bottom:10px; margin-bottom:20px;}\n",
       "h3 {font-family:Georgia, Times, serif; font-size:16px; margin:25px 0 0 0;}\n",
       "p {font-family:Verdana, Geneva, sans-serif;font-size:14px;line-height:1.3;}\n",
       ".grey_box {background-color:#eee; padding:5px 40px 20px 40px;margin-top:75px;}\n",
       ".grey_box p {font-size:12px;line-height:1.5}\n",
       ".note {padding: 0 40px; font-style: italic;}\n",
       "</style>\n",
       "</head>\n",
       "<body>\n",
       "<div id=\"header\">U.S. Securities and Exchange Commission</div>\n",
       "<div id=\"content\">\n",
       "<h1>Your Request Originates from an Undeclared Automated Tool</h1>\n",
       "<p>To allow for equitable access to all users, SEC reserves the right to limit requests originating from undeclared automated tools. Your request has been identified as part of a network of automated tools outside of the acceptable policy and will be managed until action is taken to declare your traffic.</p>\n",
       "<p>Please declare your traffic by updating your user agent to include company specific information.</p>\n",
       "<p>For best practices on efficiently downloading information from SEC.gov, including the latest EDGAR filings, visit <a href=\"https://www.sec.gov/developer\" target=\"_blank\">sec.gov/developer</a>. You can also <a href=\"https://public.govdelivery.com/accounts/USSEC/subscriber/new?topic_id=USSEC_260\" target=\"_blank\">sign up for email updates</a> on the SEC open data program, including best practices that make it more efficient to download data, and SEC.gov enhancements that may impact scripted downloading processes. For more information, contact <a href=\"mailto:opendata@sec.gov\">opendata@sec.gov</a>.</p>\n",
       "<p>For more information, please see the SECâs <a href=\"#internet\">Web Site Privacy and Security Policy</a>. Thank you for your interest in the U.S. Securities and Exchange Commission.\n",
       "</p><p>Reference ID: 0.cfebdfad.1646026419.bab0228</p>\n",
       "<div class=\"grey_box\">\n",
       "<h2>More Information</h2>\n",
       "<h3><a name=\"internet\">Internet Security Policy</a></h3>\n",
       "<p>By using this site, you are agreeing to security monitoring and auditing. For security purposes, and to ensure that the public service remains available to users, this government computer system employs programs to monitor network traffic to identify unauthorized attempts to upload or change information or to otherwise cause damage, including attempts to deny service to users.</p>\n",
       "<p>Unauthorized attempts to upload information and/or change information on any portion of this site are strictly prohibited and are subject to prosecution under the Computer Fraud and Abuse Act of 1986 and the National Information Infrastructure Protection Act of 1996 (see Title 18 U.S.C. Â§Â§ 1001 and 1030).</p>\n",
       "<p>To ensure our website performs well for all users, the SEC monitors the frequency of requests for SEC.gov content to ensure automated searches do not impact the ability of others to access SEC.gov content. We reserve the right to block IP addresses that submit excessive requests.  Current guidelines limit users to a total of no more than 10 requests per second, regardless of the number of machines used to submit requests. </p>\n",
       "<p>If a user or application submits more than 10 requests per second, further requests from the IP address(es) may be limited for a brief period. Once the rate of requests has dropped below the threshold for 10 minutes, the user may resume accessing content on SEC.gov. This SEC practice is designed to limit excessive automated searches on SEC.gov and is not intended or expected to impact individuals browsing the SEC.gov website. </p>\n",
       "<p>Note that this policy may change as the SEC manages SEC.gov to ensure that the website performs efficiently and remains available to all users.</p>\n",
       "</div>\n",
       "<br/>\n",
       "<p class=\"note\"><b>Note:</b> We do not offer technical support for developing or debugging scripted downloading processes.</p>\n",
       "</div>\n",
       "</body>\n",
       "</html>"
      ]
     },
     "execution_count": 15,
     "metadata": {},
     "output_type": "execute_result"
    }
   ],
   "source": [
    "resp = requests.get(to_get_html_site)\n",
    "soup = bs.BeautifulSoup(resp.text, 'lxml')\n",
    "soup"
   ]
  },
  {
   "cell_type": "code",
   "execution_count": null,
   "id": "0fe0b302",
   "metadata": {},
   "outputs": [],
   "source": []
  }
 ],
 "metadata": {
  "kernelspec": {
   "display_name": "Python 3",
   "language": "python",
   "name": "python3"
  },
  "language_info": {
   "codemirror_mode": {
    "name": "ipython",
    "version": 3
   },
   "file_extension": ".py",
   "mimetype": "text/x-python",
   "name": "python",
   "nbconvert_exporter": "python",
   "pygments_lexer": "ipython3",
   "version": "3.8.8"
  }
 },
 "nbformat": 4,
 "nbformat_minor": 5
}
