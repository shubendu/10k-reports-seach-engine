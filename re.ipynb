{
 "cells": [
  {
   "cell_type": "code",
   "execution_count": 5,
   "id": "7dee8111",
   "metadata": {},
   "outputs": [],
   "source": [
    "import re"
   ]
  },
  {
   "cell_type": "code",
   "execution_count": 6,
   "id": "1e935a9c",
   "metadata": {},
   "outputs": [
    {
     "name": "stdout",
     "output_type": "stream",
     "text": [
      "\tdasda\n"
     ]
    }
   ],
   "source": [
    "print('\\tdasda')"
   ]
  },
  {
   "cell_type": "code",
   "execution_count": 7,
   "id": "3e62a65f",
   "metadata": {},
   "outputs": [
    {
     "name": "stdout",
     "output_type": "stream",
     "text": [
      "\\tdasda\n"
     ]
    }
   ],
   "source": [
    "print(r'\\tdasda') #raw string we ll be using these"
   ]
  },
  {
   "cell_type": "markdown",
   "id": "5ad77124",
   "metadata": {},
   "source": [
    "<p>\n",
    "    .       - Any Character Except New Line <br>\n",
    "\\d      - Digit (0-9)<br>\n",
    "\\D      - Not a Digit (0-9)<br>\n",
    "\\w      - Word Character (a-z, A-Z, 0-9, _)<br>\n",
    "\\W      - Not a Word Character<br>\n",
    "\\s      - Whitespace (space, tab, newline)<br>\n",
    "\\S      - Not Whitespace (space, tab, newline)<br>\n",
    "<br>\n",
    "\\b      - Word Boundary<br>\n",
    "\\B      - Not a Word Boundary<br>\n",
    "^       - Beginning of a String<br>\n",
    "$       - End of a String<br>\n",
    " <br>\n",
    "[]      - Matches Characters in brackets <br>\n",
    "[^ ]    - Matches Characters NOT in brackets <br>\n",
    "|       - Either Or <br>\n",
    "( )     - Group<br>\n",
    "\n",
    "Quantifiers:\n",
    "<p>*       - 0 or More</p><br>\n",
    "<p>+       - 1 or More</p><br>\n",
    "<p>?       - 0 or One</p><br>\n",
    "<p>{3}     - Exact Number</p>\n",
    "<p>{3,4}   - Range of Numbers (Minimum, Maximum)</p><br>\n",
    "\n",
    "\n",
    "#### Sample Regexs ####<br>\n",
    "\n",
    "[a-zA-Z0-9_.+-]+@[a-zA-Z0-9-]+\\.[a-zA-Z0-9-.]+<br>\n",
    "</p>"
   ]
  },
  {
   "cell_type": "code",
   "execution_count": 73,
   "id": "b4c7de34",
   "metadata": {},
   "outputs": [],
   "source": [
    "text_to_search = '''\n",
    "abcdefghijklmnopqurtuvwxyz\n",
    "ABCDEFGHIJKLMNOPQRSTUVWXYZ\n",
    "1234567890\n",
    "Ha HaHa\n",
    "MetaCharacters (Need to be escaped):\n",
    ". ^ $ * + ? { } [ ] \\ | ( )\n",
    "coreyms.com\n",
    "321-555-4321\n",
    "123.555.1234\n",
    "123*555*1234\n",
    "800-555-1234\n",
    "900-555-1234\n",
    "Mr. Schafer\n",
    "Mr Smith\n",
    "Ms Davis\n",
    "Mrs. Robinson\n",
    "Mr. T\n",
    "\n",
    "cat\n",
    "mat\n",
    "pat\n",
    "bat\n",
    "\n",
    "'''"
   ]
  },
  {
   "cell_type": "markdown",
   "id": "d5c32e56",
   "metadata": {},
   "source": [
    "# Basic Patterns"
   ]
  },
  {
   "cell_type": "code",
   "execution_count": 74,
   "id": "b6280d11",
   "metadata": {},
   "outputs": [],
   "source": [
    "pattern = re.compile(r'\\d\\d\\d.\\d\\d\\d.\\d\\d\\d\\d') #. matches any character\n",
    "pattern = re.compile(r'\\d\\d\\d[-.]\\d\\d\\d[-.]\\d\\d\\d\\d') # matches specifically - and .\n",
    "pattern = re.compile(r'[89]00[-.]\\d\\d\\d[-.]\\d\\d\\d\\d') # matches specifically start with 800 or 900"
   ]
  },
  {
   "cell_type": "code",
   "execution_count": 75,
   "id": "e87e8697",
   "metadata": {},
   "outputs": [],
   "source": [
    "pattern = re.compile(r'[1-5]') # matches between 1 - 5 (- here specify range)\n",
    "pattern = re.compile(r'[A-Za-z]') # matches between A to Z or a to z (- here specify range)\n",
    "pattern = re.compile(r'[^A-Za-z]') # ^ caret select opposite of this\n",
    "pattern = re.compile(r'[^b]at')# words does not start with b but ends with at"
   ]
  },
  {
   "cell_type": "markdown",
   "id": "4d9d9e06",
   "metadata": {},
   "source": [
    "# Quantifiers"
   ]
  },
  {
   "cell_type": "code",
   "execution_count": 78,
   "id": "56dde60a",
   "metadata": {},
   "outputs": [],
   "source": [
    "pattern = re.compile(r'\\d{3}.\\d{3}.\\d{4}')"
   ]
  },
  {
   "cell_type": "code",
   "execution_count": 107,
   "id": "50819a9a",
   "metadata": {},
   "outputs": [],
   "source": [
    "pattern = re.compile(r'Mr\\.?\\s[A-Z]\\w*')"
   ]
  },
  {
   "cell_type": "code",
   "execution_count": 108,
   "id": "d75bc442",
   "metadata": {},
   "outputs": [
    {
     "name": "stdout",
     "output_type": "stream",
     "text": [
      "<re.Match object; span=(216, 227), match='Mr. Schafer'>\n",
      "<re.Match object; span=(228, 236), match='Mr Smith'>\n",
      "<re.Match object; span=(260, 265), match='Mr. T'>\n"
     ]
    }
   ],
   "source": [
    "matches = pattern.finditer(text_to_search)\n",
    "for match in matches:\n",
    "    print(match)"
   ]
  },
  {
   "cell_type": "code",
   "execution_count": 62,
   "id": "e162ba48",
   "metadata": {},
   "outputs": [
    {
     "name": "stdout",
     "output_type": "stream",
     "text": [
      "<re.Match object; span=(102, 114), match='800-555-5669'>\n",
      "<re.Match object; span=(281, 293), match='900-555-9340'>\n",
      "<re.Match object; span=(467, 479), match='800-555-6771'>\n",
      "<re.Match object; span=(1091, 1103), match='900-555-3205'>\n",
      "<re.Match object; span=(1439, 1451), match='800-555-6089'>\n",
      "<re.Match object; span=(1790, 1802), match='800-555-7100'>\n",
      "<re.Match object; span=(2051, 2063), match='900-555-5118'>\n",
      "<re.Match object; span=(2826, 2838), match='900-555-5428'>\n",
      "<re.Match object; span=(3284, 3296), match='800-555-8810'>\n",
      "<re.Match object; span=(3971, 3983), match='900-555-9598'>\n",
      "<re.Match object; span=(4945, 4957), match='800-555-2420'>\n",
      "<re.Match object; span=(5566, 5578), match='900-555-3567'>\n",
      "<re.Match object; span=(6189, 6201), match='800-555-3216'>\n",
      "<re.Match object; span=(6889, 6901), match='900-555-7755'>\n",
      "<re.Match object; span=(7864, 7876), match='800-555-1372'>\n",
      "<re.Match object; span=(8741, 8753), match='900-555-6426'>\n"
     ]
    }
   ],
   "source": [
    "with open('data.txt','r', encoding='utf-8') as f:\n",
    "    contents = f.read()\n",
    "    \n",
    "    matches = pattern.finditer(contents)\n",
    "    \n",
    "    for match in matches:\n",
    "        print(match)\n",
    "    "
   ]
  },
  {
   "cell_type": "code",
   "execution_count": null,
   "id": "c4186150",
   "metadata": {},
   "outputs": [],
   "source": []
  }
 ],
 "metadata": {
  "kernelspec": {
   "display_name": "Python 3",
   "language": "python",
   "name": "python3"
  },
  "language_info": {
   "codemirror_mode": {
    "name": "ipython",
    "version": 3
   },
   "file_extension": ".py",
   "mimetype": "text/x-python",
   "name": "python",
   "nbconvert_exporter": "python",
   "pygments_lexer": "ipython3",
   "version": "3.8.8"
  }
 },
 "nbformat": 4,
 "nbformat_minor": 5
}
