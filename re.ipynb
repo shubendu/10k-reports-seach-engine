{
 "cells": [
  {
   "cell_type": "code",
   "execution_count": 1,
   "id": "7dee8111",
   "metadata": {},
   "outputs": [],
   "source": [
    "import re"
   ]
  },
  {
   "cell_type": "code",
   "execution_count": 2,
   "id": "1e935a9c",
   "metadata": {},
   "outputs": [
    {
     "name": "stdout",
     "output_type": "stream",
     "text": [
      "\tdasda\n"
     ]
    }
   ],
   "source": [
    "print('\\tdasda')"
   ]
  },
  {
   "cell_type": "code",
   "execution_count": 3,
   "id": "3e62a65f",
   "metadata": {},
   "outputs": [
    {
     "name": "stdout",
     "output_type": "stream",
     "text": [
      "\\tdasda\n"
     ]
    }
   ],
   "source": [
    "print(r'\\tdasda') #raw string we ll be using these"
   ]
  },
  {
   "cell_type": "markdown",
   "id": "5ad77124",
   "metadata": {},
   "source": [
    "<p>\n",
    "    .       - Any Character Except New Line <br>\n",
    "\\d      - Digit (0-9)<br>\n",
    "\\D      - Not a Digit (0-9)<br>\n",
    "\\w      - Word Character (a-z, A-Z, 0-9, _)<br>\n",
    "\\W      - Not a Word Character<br>\n",
    "\\s      - Whitespace (space, tab, newline)<br>\n",
    "\\S      - Not Whitespace (space, tab, newline)<br>\n",
    "<br>\n",
    "\\b      - Word Boundary<br>\n",
    "\\B      - Not a Word Boundary<br>\n",
    "^       - Beginning of a String<br>\n",
    "$       - End of a String<br>\n",
    " <br>\n",
    "[]      - Matches Characters in brackets <br>\n",
    "[^ ]    - Matches Characters NOT in brackets <br>\n",
    "|       - Either Or <br>\n",
    "( )     - Group<br>\n",
    "\n",
    "Quantifiers:\n",
    "<p>*       - 0 or More</p><br>\n",
    "<p>+       - 1 or More</p><br>\n",
    "<p>?       - 0 or One</p><br>\n",
    "<p>{3}     - Exact Number</p>\n",
    "<p>{3,4}   - Range of Numbers (Minimum, Maximum)</p><br>\n",
    "\n",
    "\n",
    "#### Sample Regexs ####<br>\n",
    "\n",
    "[a-zA-Z0-9_.+-]+@[a-zA-Z0-9-]+\\.[a-zA-Z0-9-.]+<br>\n",
    "</p>"
   ]
  },
  {
   "cell_type": "code",
   "execution_count": 4,
   "id": "b4c7de34",
   "metadata": {},
   "outputs": [],
   "source": [
    "text_to_search = '''\n",
    "abcdefghijklmnopqurtuvwxyz\n",
    "ABCDEFGHIJKLMNOPQRSTUVWXYZ\n",
    "1234567890\n",
    "Ha HaHa\n",
    "MetaCharacters (Need to be escaped):\n",
    ". ^ $ * + ? { } [ ] \\ | ( )\n",
    "coreyms.com\n",
    "321-555-4321\n",
    "123.555.1234\n",
    "123*555*1234\n",
    "800-555-1234\n",
    "900-555-1234\n",
    "Mr. Schafer\n",
    "Mr Smith\n",
    "Ms Davis\n",
    "Mrs. Robinson\n",
    "Mr. T\n",
    "\n",
    "cat\n",
    "mat\n",
    "pat\n",
    "bat\n",
    "\n",
    "'''"
   ]
  },
  {
   "cell_type": "markdown",
   "id": "d5c32e56",
   "metadata": {},
   "source": [
    "# Basic Patterns"
   ]
  },
  {
   "cell_type": "code",
   "execution_count": 5,
   "id": "b6280d11",
   "metadata": {},
   "outputs": [],
   "source": [
    "pattern = re.compile(r'\\d\\d\\d.\\d\\d\\d.\\d\\d\\d\\d') #. matches any character\n",
    "pattern = re.compile(r'\\d\\d\\d[-.]\\d\\d\\d[-.]\\d\\d\\d\\d') # matches specifically - and .\n",
    "pattern = re.compile(r'[89]00[-.]\\d\\d\\d[-.]\\d\\d\\d\\d') # matches specifically start with 800 or 900"
   ]
  },
  {
   "cell_type": "code",
   "execution_count": 6,
   "id": "e87e8697",
   "metadata": {},
   "outputs": [],
   "source": [
    "pattern = re.compile(r'[1-5]') # matches between 1 - 5 (- here specify range)\n",
    "pattern = re.compile(r'[A-Za-z]') # matches between A to Z or a to z (- here specify range)\n",
    "pattern = re.compile(r'[^A-Za-z]') # ^ caret select opposite of this\n",
    "pattern = re.compile(r'[^b]at')# words does not start with b but ends with at"
   ]
  },
  {
   "cell_type": "markdown",
   "id": "4d9d9e06",
   "metadata": {},
   "source": [
    "# Quantifiers"
   ]
  },
  {
   "cell_type": "code",
   "execution_count": 7,
   "id": "56dde60a",
   "metadata": {},
   "outputs": [],
   "source": [
    "pattern = re.compile(r'\\d{3}.\\d{3}.\\d{4}') # when u know exact numbers"
   ]
  },
  {
   "cell_type": "code",
   "execution_count": 8,
   "id": "50819a9a",
   "metadata": {},
   "outputs": [],
   "source": [
    "pattern = re.compile(r'Mr\\.?') # .? means it is either (Ms.). or not .(Ms)\n",
    "# <re.Match object; span=(216, 219), match='Mr.'>\n",
    "# <re.Match object; span=(228, 230), match='Mr'>\n",
    "# <re.Match object; span=(246, 248), match='Mr'>\n",
    "# <re.Match object; span=(260, 263), match='Mr.'>"
   ]
  },
  {
   "cell_type": "code",
   "execution_count": 26,
   "id": "2ac2ecb8",
   "metadata": {},
   "outputs": [],
   "source": [
    "pattern = re.compile(r'Mr\\.?\\s[A-Z]\\w+') # + means it will not include Mr. T\n",
    "# <re.Match object; span=(216, 227), match='Mr. Schafer'>\n",
    "# <re.Match object; span=(228, 236), match='Mr Smith'>"
   ]
  },
  {
   "cell_type": "code",
   "execution_count": 27,
   "id": "ee645a93",
   "metadata": {},
   "outputs": [],
   "source": [
    "pattern = re.compile(r'Mr\\.?\\s[A-Z]\\w*') # + means it will include also Mr. T\n",
    "# <re.Match object; span=(216, 227), match='Mr. Schafer'>\n",
    "# <re.Match object; span=(228, 236), match='Mr Smith'>\n",
    "# <re.Match object; span=(260, 265), match='Mr. T'>"
   ]
  },
  {
   "cell_type": "code",
   "execution_count": 49,
   "id": "48c00c09",
   "metadata": {},
   "outputs": [],
   "source": [
    "pattern = re.compile(r'(Mr|Ms|Mrs)\\.?\\s[A-Z]\\w*')\n",
    "# <re.Match object; span=(216, 227), match='Mr. Schafer'>\n",
    "# <re.Match object; span=(228, 236), match='Mr Smith'>\n",
    "# <re.Match object; span=(237, 245), match='Ms Davis'>\n",
    "# <re.Match object; span=(246, 259), match='Mrs. Robinson'>\n",
    "# <re.Match object; span=(260, 265), match='Mr. T'>"
   ]
  },
  {
   "cell_type": "code",
   "execution_count": 51,
   "id": "b0e7c1c0",
   "metadata": {},
   "outputs": [
    {
     "name": "stdout",
     "output_type": "stream",
     "text": [
      "<re.Match object; span=(216, 227), match='Mr. Schafer'>\n",
      "<re.Match object; span=(228, 236), match='Mr Smith'>\n",
      "<re.Match object; span=(237, 245), match='Ms Davis'>\n",
      "<re.Match object; span=(246, 259), match='Mrs. Robinson'>\n",
      "<re.Match object; span=(260, 265), match='Mr. T'>\n"
     ]
    }
   ],
   "source": [
    "matches = pattern.finditer(text_to_search)\n",
    "for match in matches:\n",
    "    print(match)"
   ]
  },
  {
   "cell_type": "code",
   "execution_count": 54,
   "id": "c5253f0a",
   "metadata": {},
   "outputs": [],
   "source": [
    "emails = '''\n",
    "CoreyMSchafer@gmail.com\n",
    "corey.schafer@university.edu\n",
    "corey-321-schafer@my-work.net\n",
    "'''"
   ]
  },
  {
   "cell_type": "code",
   "execution_count": 69,
   "id": "035d2f77",
   "metadata": {},
   "outputs": [],
   "source": [
    "pattern = re.compile(r'[a-zA-Z]\\w*\\.?@\\w*\\.\\w*')"
   ]
  },
  {
   "cell_type": "code",
   "execution_count": 80,
   "id": "9f20133d",
   "metadata": {},
   "outputs": [],
   "source": [
    "pattern = re.compile(r'[a-zA-Z0-9.-]+@[a-zA-Z-]+\\.(com|edu|net)')"
   ]
  },
  {
   "cell_type": "code",
   "execution_count": 82,
   "id": "90470355",
   "metadata": {},
   "outputs": [],
   "source": [
    "pattern = re.compile(r'[a-zA-Z0-9_.+-]+@[a-zA-Z0-9-]+.[a-zA-Z0-9-.]+')"
   ]
  },
  {
   "cell_type": "code",
   "execution_count": 83,
   "id": "d75bc442",
   "metadata": {},
   "outputs": [
    {
     "name": "stdout",
     "output_type": "stream",
     "text": [
      "<re.Match object; span=(1, 24), match='CoreyMSchafer@gmail.com'>\n",
      "<re.Match object; span=(25, 53), match='corey.schafer@university.edu'>\n",
      "<re.Match object; span=(54, 83), match='corey-321-schafer@my-work.net'>\n"
     ]
    }
   ],
   "source": [
    "matches = pattern.finditer(emails)\n",
    "for match in matches:\n",
    "    print(match)"
   ]
  },
  {
   "cell_type": "code",
   "execution_count": 111,
   "id": "56743187",
   "metadata": {},
   "outputs": [],
   "source": [
    "urls = '''\n",
    "https://www.google.com\n",
    "http://coreyms.com\n",
    "https://youtube.com\n",
    "https://www.nasa.gov\n",
    "'''"
   ]
  },
  {
   "cell_type": "code",
   "execution_count": 123,
   "id": "8ab1595e",
   "metadata": {},
   "outputs": [
    {
     "name": "stdout",
     "output_type": "stream",
     "text": [
      "<re.Match object; span=(1, 23), match='https://www.google.com'>\n",
      "<re.Match object; span=(24, 42), match='http://coreyms.com'>\n",
      "<re.Match object; span=(43, 62), match='https://youtube.com'>\n",
      "<re.Match object; span=(63, 83), match='https://www.nasa.gov'>\n"
     ]
    }
   ],
   "source": [
    "patterns = re.compile(r'https*://\\w*\\.\\w*\\.?\\w*')\n",
    "matches = patterns.finditer(urls)\n",
    "for match in matches:\n",
    "    print(match)"
   ]
  },
  {
   "cell_type": "code",
   "execution_count": 88,
   "id": "e162ba48",
   "metadata": {},
   "outputs": [
    {
     "name": "stdout",
     "output_type": "stream",
     "text": [
      "<re.Match object; span=(60, 85), match='davemartin@bogusemail.com'>\n",
      "<re.Match object; span=(147, 175), match='charlesharris@bogusemail.com'>\n",
      "<re.Match object; span=(235, 263), match='laurawilliams@bogusemail.com'>\n",
      "<re.Match object; span=(325, 354), match='coreyjefferson@bogusemail.com'>\n",
      "<re.Match object; span=(425, 453), match='jenniferwhite@bogusemail.com'>\n",
      "<re.Match object; span=(517, 540), match='tomdavis@bogusemail.com'>\n",
      "<re.Match object; span=(601, 629), match='neilpatterson@bogusemail.com'>\n",
      "<re.Match object; span=(695, 724), match='laurajefferson@bogusemail.com'>\n",
      "<re.Match object; span=(785, 812), match='mariajohnson@bogusemail.com'>\n",
      "<re.Match object; span=(871, 899), match='michaelarnold@bogusemail.com'>\n",
      "<re.Match object; span=(962, 989), match='michaelsmith@bogusemail.com'>\n",
      "<re.Match object; span=(1049, 1076), match='robertstuart@bogusemail.com'>\n",
      "<re.Match object; span=(1137, 1163), match='lauramartin@bogusemail.com'>\n",
      "<re.Match object; span=(1225, 1253), match='barbaramartin@bogusemail.com'>\n",
      "<re.Match object; span=(1314, 1341), match='lindajackson@bogusemail.com'>\n",
      "<re.Match object; span=(1399, 1425), match='stevemiller@bogusemail.com'>\n",
      "<re.Match object; span=(1483, 1508), match='davearnold@bogusemail.com'>\n",
      "<re.Match object; span=(1571, 1600), match='jenniferjacobs@bogusemail.com'>\n",
      "<re.Match object; span=(1657, 1682), match='neilwilson@bogusemail.com'>\n",
      "<re.Match object; span=(1750, 1776), match='kurtjackson@bogusemail.com'>\n",
      "<re.Match object; span=(1833, 1858), match='maryjacobs@bogusemail.com'>\n",
      "<re.Match object; span=(1916, 1943), match='michaelwhite@bogusemail.com'>\n",
      "<re.Match object; span=(2008, 2038), match='jenniferjenkins@bogusemail.com'>\n",
      "<re.Match object; span=(2098, 2122), match='samwright@bogusemail.com'>\n",
      "<re.Match object; span=(2179, 2203), match='johndavis@bogusemail.com'>\n",
      "<re.Match object; span=(2260, 2284), match='neildavis@bogusemail.com'>\n",
      "<re.Match object; span=(2344, 2371), match='laurajackson@bogusemail.com'>\n",
      "<re.Match object; span=(2431, 2458), match='johnwilliams@bogusemail.com'>\n",
      "<re.Match object; span=(2519, 2547), match='michaelmartin@bogusemail.com'>\n",
      "<re.Match object; span=(2607, 2633), match='maggiebrown@bogusemail.com'>\n",
      "<re.Match object; span=(2690, 2715), match='kurtwilson@bogusemail.com'>\n",
      "<re.Match object; span=(2782, 2812), match='elizabetharnold@bogusemail.com'>\n",
      "<re.Match object; span=(2873, 2898), match='janemartin@bogusemail.com'>\n",
      "<re.Match object; span=(2966, 2994), match='travisjohnson@bogusemail.com'>\n",
      "<re.Match object; span=(3059, 3088), match='laurajefferson@bogusemail.com'>\n",
      "<re.Match object; span=(3148, 3174), match='tomwilliams@bogusemail.com'>\n",
      "<re.Match object; span=(3240, 3269), match='jennifertaylor@bogusemail.com'>\n",
      "<re.Match object; span=(3331, 3360), match='jenniferwright@bogusemail.com'>\n",
      "<re.Match object; span=(3416, 3439), match='stevedoe@bogusemail.com'>\n",
      "<re.Match object; span=(3496, 3520), match='kurtdavis@bogusemail.com'>\n",
      "<re.Match object; span=(3582, 3608), match='coreyharris@bogusemail.com'>\n",
      "<re.Match object; span=(3669, 3696), match='nicoletaylor@bogusemail.com'>\n",
      "<re.Match object; span=(3756, 3785), match='elizabethdavis@bogusemail.com'>\n",
      "<re.Match object; span=(3845, 3873), match='maggiejenkins@bogusemail.com'>\n",
      "<re.Match object; span=(3933, 3958), match='lindadavis@bogusemail.com'>\n",
      "<re.Match object; span=(4016, 4040), match='davemoore@bogusemail.com'>\n",
      "<re.Match object; span=(4100, 4127), match='lindajenkins@bogusemail.com'>\n",
      "<re.Match object; span=(4185, 4208), match='samwhite@bogusemail.com'>\n",
      "<re.Match object; span=(4269, 4297), match='laurarobinson@bogusemail.com'>\n",
      "<re.Match object; span=(4362, 4393), match='charlespatterson@bogusemail.com'>\n",
      "<re.Match object; span=(4455, 4480), match='joejackson@bogusemail.com'>\n",
      "<re.Match object; span=(4544, 4573), match='michaeljohnson@bogusemail.com'>\n",
      "<re.Match object; span=(4636, 4662), match='coreymiller@bogusemail.com'>\n",
      "<re.Match object; span=(4719, 4744), match='jamesmoore@bogusemail.com'>\n",
      "<re.Match object; span=(4813, 4842), match='jenniferstuart@bogusemail.com'>\n",
      "<re.Match object; span=(4904, 4932), match='charlesmartin@bogusemail.com'>\n",
      "<re.Match object; span=(4992, 5015), match='joewilks@bogusemail.com'>\n",
      "<re.Match object; span=(5079, 5109), match='elizabetharnold@bogusemail.com'>\n",
      "<re.Match object; span=(5169, 5194), match='johnmiller@bogusemail.com'>\n",
      "<re.Match object; span=(5252, 5279), match='coreyjackson@bogusemail.com'>\n",
      "<re.Match object; span=(5340, 5364), match='samthomas@bogusemail.com'>\n",
      "<re.Match object; span=(5429, 5458), match='patriciathomas@bogusemail.com'>\n",
      "<re.Match object; span=(5521, 5549), match='jenniferdavis@bogusemail.com'>\n",
      "<re.Match object; span=(5609, 5637), match='patriciabrown@bogusemail.com'>\n",
      "<re.Match object; span=(5700, 5730), match='barbarawilliams@bogusemail.com'>\n",
      "<re.Match object; span=(5790, 5816), match='jamestaylor@bogusemail.com'>\n",
      "<re.Match object; span=(5875, 5903), match='barbaraharris@bogusemail.com'>\n",
      "<re.Match object; span=(5967, 5996), match='travisanderson@bogusemail.com'>\n",
      "<re.Match object; span=(6056, 6082), match='samrobinson@bogusemail.com'>\n",
      "<re.Match object; span=(6147, 6175), match='steverobinson@bogusemail.com'>\n",
      "<re.Match object; span=(6235, 6260), match='marywilson@bogusemail.com'>\n",
      "<re.Match object; span=(6320, 6344), match='samwilson@bogusemail.com'>\n",
      "<re.Match object; span=(6404, 6431), match='charlesjones@bogusemail.com'>\n",
      "<re.Match object; span=(6492, 6517), match='laurabrown@bogusemail.com'>\n",
      "<re.Match object; span=(6577, 6601), match='tomharris@bogusemail.com'>\n",
      "<re.Match object; span=(6663, 6692), match='patriciataylor@bogusemail.com'>\n",
      "<re.Match object; span=(6756, 6786), match='barbarawilliams@bogusemail.com'>\n",
      "<re.Match object; span=(6847, 6875), match='maggiejohnson@bogusemail.com'>\n",
      "<re.Match object; span=(6932, 6957), match='kurtmiller@bogusemail.com'>\n",
      "<re.Match object; span=(7018, 7043), match='neilstuart@bogusemail.com'>\n",
      "<re.Match object; span=(7107, 7136), match='lindapatterson@bogusemail.com'>\n",
      "<re.Match object; span=(7195, 7222), match='charlesdavis@bogusemail.com'>\n",
      "<re.Match object; span=(7289, 7321), match='jenniferjefferson@bogusemail.com'>\n",
      "<re.Match object; span=(7386, 7412), match='coreytaylor@bogusemail.com'>\n",
      "<re.Match object; span=(7472, 7498), match='robertwilks@bogusemail.com'>\n",
      "<re.Match object; span=(7562, 7590), match='travisjackson@bogusemail.com'>\n",
      "<re.Match object; span=(7651, 7679), match='travisjackson@bogusemail.com'>\n",
      "<re.Match object; span=(7740, 7765), match='laurawilks@bogusemail.com'>\n",
      "<re.Match object; span=(7823, 7848), match='neilarnold@bogusemail.com'>\n",
      "<re.Match object; span=(7908, 7935), match='lindajohnson@bogusemail.com'>\n",
      "<re.Match object; span=(7999, 8028), match='jenniferwilson@bogusemail.com'>\n",
      "<re.Match object; span=(8088, 8114), match='nicolewhite@bogusemail.com'>\n",
      "<re.Match object; span=(8175, 8201), match='mariaarnold@bogusemail.com'>\n",
      "<re.Match object; span=(8264, 8292), match='jenniferdavis@bogusemail.com'>\n",
      "<re.Match object; span=(8353, 8381), match='marypatterson@bogusemail.com'>\n",
      "<re.Match object; span=(8439, 8464), match='janestuart@bogusemail.com'>\n",
      "<re.Match object; span=(8523, 8549), match='robertdavis@bogusemail.com'>\n",
      "<re.Match object; span=(8608, 8634), match='jamestaylor@bogusemail.com'>\n",
      "<re.Match object; span=(8699, 8724), match='johnstuart@bogusemail.com'>\n",
      "<re.Match object; span=(8794, 8822), match='charlesmiller@bogusemail.com'>\n"
     ]
    }
   ],
   "source": [
    "with open('data.txt','r', encoding='utf-8') as f:\n",
    "    contents = f.read()\n",
    "    \n",
    "    matches = pattern.finditer(contents)\n",
    "    \n",
    "    for match in matches:\n",
    "        print(match)\n",
    "    "
   ]
  },
  {
   "cell_type": "code",
   "execution_count": null,
   "id": "c4186150",
   "metadata": {},
   "outputs": [],
   "source": []
  }
 ],
 "metadata": {
  "kernelspec": {
   "display_name": "Python 3",
   "language": "python",
   "name": "python3"
  },
  "language_info": {
   "codemirror_mode": {
    "name": "ipython",
    "version": 3
   },
   "file_extension": ".py",
   "mimetype": "text/x-python",
   "name": "python",
   "nbconvert_exporter": "python",
   "pygments_lexer": "ipython3",
   "version": "3.8.5"
  }
 },
 "nbformat": 4,
 "nbformat_minor": 5
}
